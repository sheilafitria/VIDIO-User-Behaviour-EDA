{
  "nbformat": 4,
  "nbformat_minor": 0,
  "metadata": {
    "colab": {
      "provenance": [],
      "toc_visible": true
    },
    "kernelspec": {
      "name": "python3",
      "display_name": "Python 3"
    },
    "language_info": {
      "name": "python"
    }
  },
  "cells": [
    {
      "cell_type": "markdown",
      "source": [
        "#Performance of Viewed Content and Viewers Engagement Analysis on Vidio"
      ],
      "metadata": {
        "id": "M0V2O1mrcDPk"
      }
    },
    {
      "cell_type": "markdown",
      "source": [
        "#Load the Data"
      ],
      "metadata": {
        "id": "pjIqBjmrTfqn"
      }
    },
    {
      "cell_type": "code",
      "source": [
        "from google.colab import drive\n",
        "drive.mount('/content/drive')"
      ],
      "metadata": {
        "colab": {
          "base_uri": "https://localhost:8080/"
        },
        "id": "rj5XD8PpI7VI",
        "outputId": "abe32345-78e7-4eb1-98d0-0f5da5717754"
      },
      "execution_count": null,
      "outputs": [
        {
          "output_type": "stream",
          "name": "stdout",
          "text": [
            "Drive already mounted at /content/drive; to attempt to forcibly remount, call drive.mount(\"/content/drive\", force_remount=True).\n"
          ]
        }
      ]
    },
    {
      "cell_type": "code",
      "source": [
        "df = pd.read_csv('/content/drive/MyDrive/Vidio Data Analyst Study Case - Sheila Fitria A/10%.csv')"
      ],
      "metadata": {
        "colab": {
          "base_uri": "https://localhost:8080/",
          "height": 224
        },
        "id": "gxuW6MkeTXRZ",
        "outputId": "10fb9373-6c8b-4888-8712-eecaeb38158e"
      },
      "execution_count": null,
      "outputs": [
        {
          "output_type": "error",
          "ename": "ParserError",
          "evalue": "ignored",
          "traceback": [
            "\u001b[0;31m---------------------------------------------------------------------------\u001b[0m",
            "\u001b[0;31mParserError\u001b[0m                               Traceback (most recent call last)",
            "\u001b[0;32m<ipython-input-80-36ac8eec86fe>\u001b[0m in \u001b[0;36m<cell line: 1>\u001b[0;34m()\u001b[0m\n\u001b[0;32m----> 1\u001b[0;31m \u001b[0mdf\u001b[0m \u001b[0;34m=\u001b[0m \u001b[0mpd\u001b[0m\u001b[0;34m.\u001b[0m\u001b[0mread_csv\u001b[0m\u001b[0;34m(\u001b[0m\u001b[0;34m'/content/drive/MyDrive/Vidio Data Analyst Study Case - Sheila Fitria A/10%.csv'\u001b[0m\u001b[0;34m)\u001b[0m\u001b[0;34m\u001b[0m\u001b[0;34m\u001b[0m\u001b[0m\n\u001b[0m",
            "\u001b[0;32m/usr/local/lib/python3.10/dist-packages/pandas/util/_decorators.py\u001b[0m in \u001b[0;36mwrapper\u001b[0;34m(*args, **kwargs)\u001b[0m\n\u001b[1;32m    209\u001b[0m                 \u001b[0;32melse\u001b[0m\u001b[0;34m:\u001b[0m\u001b[0;34m\u001b[0m\u001b[0;34m\u001b[0m\u001b[0m\n\u001b[1;32m    210\u001b[0m                     \u001b[0mkwargs\u001b[0m\u001b[0;34m[\u001b[0m\u001b[0mnew_arg_name\u001b[0m\u001b[0;34m]\u001b[0m \u001b[0;34m=\u001b[0m \u001b[0mnew_arg_value\u001b[0m\u001b[0;34m\u001b[0m\u001b[0;34m\u001b[0m\u001b[0m\n\u001b[0;32m--> 211\u001b[0;31m             \u001b[0;32mreturn\u001b[0m \u001b[0mfunc\u001b[0m\u001b[0;34m(\u001b[0m\u001b[0;34m*\u001b[0m\u001b[0margs\u001b[0m\u001b[0;34m,\u001b[0m \u001b[0;34m**\u001b[0m\u001b[0mkwargs\u001b[0m\u001b[0;34m)\u001b[0m\u001b[0;34m\u001b[0m\u001b[0;34m\u001b[0m\u001b[0m\n\u001b[0m\u001b[1;32m    212\u001b[0m \u001b[0;34m\u001b[0m\u001b[0m\n\u001b[1;32m    213\u001b[0m         \u001b[0;32mreturn\u001b[0m \u001b[0mcast\u001b[0m\u001b[0;34m(\u001b[0m\u001b[0mF\u001b[0m\u001b[0;34m,\u001b[0m \u001b[0mwrapper\u001b[0m\u001b[0;34m)\u001b[0m\u001b[0;34m\u001b[0m\u001b[0;34m\u001b[0m\u001b[0m\n",
            "\u001b[0;32m/usr/local/lib/python3.10/dist-packages/pandas/util/_decorators.py\u001b[0m in \u001b[0;36mwrapper\u001b[0;34m(*args, **kwargs)\u001b[0m\n\u001b[1;32m    329\u001b[0m                     \u001b[0mstacklevel\u001b[0m\u001b[0;34m=\u001b[0m\u001b[0mfind_stack_level\u001b[0m\u001b[0;34m(\u001b[0m\u001b[0;34m)\u001b[0m\u001b[0;34m,\u001b[0m\u001b[0;34m\u001b[0m\u001b[0;34m\u001b[0m\u001b[0m\n\u001b[1;32m    330\u001b[0m                 )\n\u001b[0;32m--> 331\u001b[0;31m             \u001b[0;32mreturn\u001b[0m \u001b[0mfunc\u001b[0m\u001b[0;34m(\u001b[0m\u001b[0;34m*\u001b[0m\u001b[0margs\u001b[0m\u001b[0;34m,\u001b[0m \u001b[0;34m**\u001b[0m\u001b[0mkwargs\u001b[0m\u001b[0;34m)\u001b[0m\u001b[0;34m\u001b[0m\u001b[0;34m\u001b[0m\u001b[0m\n\u001b[0m\u001b[1;32m    332\u001b[0m \u001b[0;34m\u001b[0m\u001b[0m\n\u001b[1;32m    333\u001b[0m         \u001b[0;31m# error: \"Callable[[VarArg(Any), KwArg(Any)], Any]\" has no\u001b[0m\u001b[0;34m\u001b[0m\u001b[0;34m\u001b[0m\u001b[0m\n",
            "\u001b[0;32m/usr/local/lib/python3.10/dist-packages/pandas/io/parsers/readers.py\u001b[0m in \u001b[0;36mread_csv\u001b[0;34m(filepath_or_buffer, sep, delimiter, header, names, index_col, usecols, squeeze, prefix, mangle_dupe_cols, dtype, engine, converters, true_values, false_values, skipinitialspace, skiprows, skipfooter, nrows, na_values, keep_default_na, na_filter, verbose, skip_blank_lines, parse_dates, infer_datetime_format, keep_date_col, date_parser, dayfirst, cache_dates, iterator, chunksize, compression, thousands, decimal, lineterminator, quotechar, quoting, doublequote, escapechar, comment, encoding, encoding_errors, dialect, error_bad_lines, warn_bad_lines, on_bad_lines, delim_whitespace, low_memory, memory_map, float_precision, storage_options)\u001b[0m\n\u001b[1;32m    948\u001b[0m     \u001b[0mkwds\u001b[0m\u001b[0;34m.\u001b[0m\u001b[0mupdate\u001b[0m\u001b[0;34m(\u001b[0m\u001b[0mkwds_defaults\u001b[0m\u001b[0;34m)\u001b[0m\u001b[0;34m\u001b[0m\u001b[0;34m\u001b[0m\u001b[0m\n\u001b[1;32m    949\u001b[0m \u001b[0;34m\u001b[0m\u001b[0m\n\u001b[0;32m--> 950\u001b[0;31m     \u001b[0;32mreturn\u001b[0m \u001b[0m_read\u001b[0m\u001b[0;34m(\u001b[0m\u001b[0mfilepath_or_buffer\u001b[0m\u001b[0;34m,\u001b[0m \u001b[0mkwds\u001b[0m\u001b[0;34m)\u001b[0m\u001b[0;34m\u001b[0m\u001b[0;34m\u001b[0m\u001b[0m\n\u001b[0m\u001b[1;32m    951\u001b[0m \u001b[0;34m\u001b[0m\u001b[0m\n\u001b[1;32m    952\u001b[0m \u001b[0;34m\u001b[0m\u001b[0m\n",
            "\u001b[0;32m/usr/local/lib/python3.10/dist-packages/pandas/io/parsers/readers.py\u001b[0m in \u001b[0;36m_read\u001b[0;34m(filepath_or_buffer, kwds)\u001b[0m\n\u001b[1;32m    609\u001b[0m \u001b[0;34m\u001b[0m\u001b[0m\n\u001b[1;32m    610\u001b[0m     \u001b[0;32mwith\u001b[0m \u001b[0mparser\u001b[0m\u001b[0;34m:\u001b[0m\u001b[0;34m\u001b[0m\u001b[0;34m\u001b[0m\u001b[0m\n\u001b[0;32m--> 611\u001b[0;31m         \u001b[0;32mreturn\u001b[0m \u001b[0mparser\u001b[0m\u001b[0;34m.\u001b[0m\u001b[0mread\u001b[0m\u001b[0;34m(\u001b[0m\u001b[0mnrows\u001b[0m\u001b[0;34m)\u001b[0m\u001b[0;34m\u001b[0m\u001b[0;34m\u001b[0m\u001b[0m\n\u001b[0m\u001b[1;32m    612\u001b[0m \u001b[0;34m\u001b[0m\u001b[0m\n\u001b[1;32m    613\u001b[0m \u001b[0;34m\u001b[0m\u001b[0m\n",
            "\u001b[0;32m/usr/local/lib/python3.10/dist-packages/pandas/io/parsers/readers.py\u001b[0m in \u001b[0;36mread\u001b[0;34m(self, nrows)\u001b[0m\n\u001b[1;32m   1776\u001b[0m                     \u001b[0mcolumns\u001b[0m\u001b[0;34m,\u001b[0m\u001b[0;34m\u001b[0m\u001b[0;34m\u001b[0m\u001b[0m\n\u001b[1;32m   1777\u001b[0m                     \u001b[0mcol_dict\u001b[0m\u001b[0;34m,\u001b[0m\u001b[0;34m\u001b[0m\u001b[0;34m\u001b[0m\u001b[0m\n\u001b[0;32m-> 1778\u001b[0;31m                 \u001b[0;34m)\u001b[0m \u001b[0;34m=\u001b[0m \u001b[0mself\u001b[0m\u001b[0;34m.\u001b[0m\u001b[0m_engine\u001b[0m\u001b[0;34m.\u001b[0m\u001b[0mread\u001b[0m\u001b[0;34m(\u001b[0m  \u001b[0;31m# type: ignore[attr-defined]\u001b[0m\u001b[0;34m\u001b[0m\u001b[0;34m\u001b[0m\u001b[0m\n\u001b[0m\u001b[1;32m   1779\u001b[0m                     \u001b[0mnrows\u001b[0m\u001b[0;34m\u001b[0m\u001b[0;34m\u001b[0m\u001b[0m\n\u001b[1;32m   1780\u001b[0m                 )\n",
            "\u001b[0;32m/usr/local/lib/python3.10/dist-packages/pandas/io/parsers/c_parser_wrapper.py\u001b[0m in \u001b[0;36mread\u001b[0;34m(self, nrows)\u001b[0m\n\u001b[1;32m    228\u001b[0m         \u001b[0;32mtry\u001b[0m\u001b[0;34m:\u001b[0m\u001b[0;34m\u001b[0m\u001b[0;34m\u001b[0m\u001b[0m\n\u001b[1;32m    229\u001b[0m             \u001b[0;32mif\u001b[0m \u001b[0mself\u001b[0m\u001b[0;34m.\u001b[0m\u001b[0mlow_memory\u001b[0m\u001b[0;34m:\u001b[0m\u001b[0;34m\u001b[0m\u001b[0;34m\u001b[0m\u001b[0m\n\u001b[0;32m--> 230\u001b[0;31m                 \u001b[0mchunks\u001b[0m \u001b[0;34m=\u001b[0m \u001b[0mself\u001b[0m\u001b[0;34m.\u001b[0m\u001b[0m_reader\u001b[0m\u001b[0;34m.\u001b[0m\u001b[0mread_low_memory\u001b[0m\u001b[0;34m(\u001b[0m\u001b[0mnrows\u001b[0m\u001b[0;34m)\u001b[0m\u001b[0;34m\u001b[0m\u001b[0;34m\u001b[0m\u001b[0m\n\u001b[0m\u001b[1;32m    231\u001b[0m                 \u001b[0;31m# destructive to chunks\u001b[0m\u001b[0;34m\u001b[0m\u001b[0;34m\u001b[0m\u001b[0m\n\u001b[1;32m    232\u001b[0m                 \u001b[0mdata\u001b[0m \u001b[0;34m=\u001b[0m \u001b[0m_concatenate_chunks\u001b[0m\u001b[0;34m(\u001b[0m\u001b[0mchunks\u001b[0m\u001b[0;34m)\u001b[0m\u001b[0;34m\u001b[0m\u001b[0;34m\u001b[0m\u001b[0m\n",
            "\u001b[0;32m/usr/local/lib/python3.10/dist-packages/pandas/_libs/parsers.pyx\u001b[0m in \u001b[0;36mpandas._libs.parsers.TextReader.read_low_memory\u001b[0;34m()\u001b[0m\n",
            "\u001b[0;32m/usr/local/lib/python3.10/dist-packages/pandas/_libs/parsers.pyx\u001b[0m in \u001b[0;36mpandas._libs.parsers.TextReader._read_rows\u001b[0;34m()\u001b[0m\n",
            "\u001b[0;32m/usr/local/lib/python3.10/dist-packages/pandas/_libs/parsers.pyx\u001b[0m in \u001b[0;36mpandas._libs.parsers.TextReader._tokenize_rows\u001b[0;34m()\u001b[0m\n",
            "\u001b[0;32m/usr/local/lib/python3.10/dist-packages/pandas/_libs/parsers.pyx\u001b[0m in \u001b[0;36mpandas._libs.parsers.raise_parser_error\u001b[0;34m()\u001b[0m\n",
            "\u001b[0;31mParserError\u001b[0m: Error tokenizing data. C error: Expected 41 fields in line 7655, saw 42\n"
          ]
        }
      ]
    },
    {
      "cell_type": "markdown",
      "source": [
        "#Check the error of the CSV File"
      ],
      "metadata": {
        "id": "G_aJLEvZSf92"
      }
    },
    {
      "cell_type": "code",
      "source": [
        "import csv\n",
        "with open('/content/drive/MyDrive/Vidio Data Analyst Study Case - Sheila Fitria A/10%.csv', 'r') as file:\n",
        "    csv_reader = csv.reader(file)\n",
        "    data = list(csv_reader)\n"
      ],
      "metadata": {
        "id": "VrgEK-shJqWC"
      },
      "execution_count": null,
      "outputs": []
    },
    {
      "cell_type": "code",
      "source": [
        "total_data = len(data)\n",
        "error_count = 0\n",
        "\n",
        "for index, row in enumerate(data):\n",
        "    if len(row) != 41:  # Adjust the expected number of fields accordingly\n",
        "        error_count += 1\n",
        "        print(f\"Error on line {index+1}: Expected 41 fields, found {len(row)} fields.\")\n",
        "\n",
        "error_percentage = (error_count / total_data) * 100\n",
        "\n",
        "print(f\"Total data: {total_data}\")\n",
        "print(f\"Total errors: {error_count}\")\n",
        "print(f\"Error percentage: {error_percentage}%\")\n"
      ],
      "metadata": {
        "colab": {
          "base_uri": "https://localhost:8080/"
        },
        "id": "sQyion7EREhG",
        "outputId": "e63548cf-e706-4ee5-9a57-966f55f0b388"
      },
      "execution_count": null,
      "outputs": [
        {
          "output_type": "stream",
          "name": "stdout",
          "text": [
            "Error on line 7655: Expected 41 fields, found 42 fields.\n",
            "Error on line 28027: Expected 41 fields, found 49 fields.\n",
            "Error on line 29868: Expected 41 fields, found 42 fields.\n",
            "Error on line 41317: Expected 41 fields, found 49 fields.\n",
            "Error on line 50334: Expected 41 fields, found 42 fields.\n",
            "Error on line 57183: Expected 41 fields, found 42 fields.\n",
            "Error on line 61465: Expected 41 fields, found 49 fields.\n",
            "Error on line 68522: Expected 41 fields, found 49 fields.\n",
            "Error on line 74582: Expected 41 fields, found 42 fields.\n",
            "Error on line 83509: Expected 41 fields, found 42 fields.\n",
            "Error on line 94944: Expected 41 fields, found 42 fields.\n",
            "Error on line 130829: Expected 41 fields, found 42 fields.\n",
            "Error on line 163627: Expected 41 fields, found 42 fields.\n",
            "Error on line 185137: Expected 41 fields, found 42 fields.\n",
            "Error on line 197897: Expected 41 fields, found 42 fields.\n",
            "Error on line 206057: Expected 41 fields, found 42 fields.\n",
            "Error on line 213623: Expected 41 fields, found 42 fields.\n",
            "Error on line 216084: Expected 41 fields, found 42 fields.\n",
            "Error on line 227679: Expected 41 fields, found 49 fields.\n",
            "Error on line 251548: Expected 41 fields, found 42 fields.\n",
            "Error on line 261391: Expected 41 fields, found 42 fields.\n",
            "Error on line 262030: Expected 41 fields, found 42 fields.\n",
            "Error on line 264908: Expected 41 fields, found 42 fields.\n",
            "Error on line 287859: Expected 41 fields, found 42 fields.\n",
            "Error on line 299433: Expected 41 fields, found 42 fields.\n",
            "Error on line 311877: Expected 41 fields, found 42 fields.\n",
            "Error on line 313477: Expected 41 fields, found 42 fields.\n",
            "Error on line 322023: Expected 41 fields, found 42 fields.\n",
            "Error on line 324768: Expected 41 fields, found 42 fields.\n",
            "Error on line 337682: Expected 41 fields, found 42 fields.\n",
            "Error on line 338488: Expected 41 fields, found 42 fields.\n",
            "Error on line 339520: Expected 41 fields, found 42 fields.\n",
            "Error on line 349423: Expected 41 fields, found 42 fields.\n",
            "Error on line 369734: Expected 41 fields, found 49 fields.\n",
            "Error on line 378702: Expected 41 fields, found 45 fields.\n",
            "Error on line 418657: Expected 41 fields, found 49 fields.\n",
            "Error on line 449543: Expected 41 fields, found 42 fields.\n",
            "Error on line 461649: Expected 41 fields, found 49 fields.\n",
            "Error on line 466375: Expected 41 fields, found 49 fields.\n",
            "Error on line 473517: Expected 41 fields, found 49 fields.\n",
            "Error on line 475529: Expected 41 fields, found 49 fields.\n",
            "Error on line 492187: Expected 41 fields, found 42 fields.\n",
            "Error on line 496866: Expected 41 fields, found 42 fields.\n",
            "Error on line 534249: Expected 41 fields, found 42 fields.\n",
            "Error on line 539042: Expected 41 fields, found 49 fields.\n",
            "Error on line 562932: Expected 41 fields, found 42 fields.\n",
            "Error on line 563198: Expected 41 fields, found 42 fields.\n",
            "Error on line 566240: Expected 41 fields, found 49 fields.\n",
            "Error on line 571182: Expected 41 fields, found 42 fields.\n",
            "Error on line 583341: Expected 41 fields, found 42 fields.\n",
            "Error on line 588749: Expected 41 fields, found 42 fields.\n",
            "Error on line 591549: Expected 41 fields, found 42 fields.\n",
            "Error on line 591893: Expected 41 fields, found 49 fields.\n",
            "Error on line 595608: Expected 41 fields, found 42 fields.\n",
            "Error on line 596193: Expected 41 fields, found 42 fields.\n",
            "Error on line 596194: Expected 41 fields, found 42 fields.\n",
            "Error on line 601182: Expected 41 fields, found 57 fields.\n",
            "Error on line 623671: Expected 41 fields, found 42 fields.\n",
            "Error on line 625063: Expected 41 fields, found 42 fields.\n",
            "Error on line 633708: Expected 41 fields, found 42 fields.\n",
            "Error on line 636424: Expected 41 fields, found 42 fields.\n",
            "Error on line 642211: Expected 41 fields, found 42 fields.\n",
            "Error on line 644971: Expected 41 fields, found 42 fields.\n",
            "Error on line 649294: Expected 41 fields, found 42 fields.\n",
            "Error on line 662233: Expected 41 fields, found 43 fields.\n",
            "Error on line 688315: Expected 41 fields, found 42 fields.\n",
            "Error on line 697611: Expected 41 fields, found 42 fields.\n",
            "Error on line 700575: Expected 41 fields, found 42 fields.\n",
            "Error on line 702178: Expected 41 fields, found 49 fields.\n",
            "Error on line 705345: Expected 41 fields, found 42 fields.\n",
            "Total data: 742653\n",
            "Total errors: 70\n",
            "Error percentage: 0.009425667168920075%\n"
          ]
        }
      ]
    },
    {
      "cell_type": "markdown",
      "source": [
        "**Because the error rows only 0.009% from the total data, so the rows will be dropped or excluded**"
      ],
      "metadata": {
        "id": "Cw-rf_a9SR7l"
      }
    },
    {
      "cell_type": "markdown",
      "source": [
        "##Drop the Error Rows"
      ],
      "metadata": {
        "id": "ehT07xGMVZqR"
      }
    },
    {
      "cell_type": "code",
      "source": [
        "cleaned_data = []\n",
        "for index, row in enumerate(data):\n",
        "    try:\n",
        "        if len(row) == 41:  # Adjust the expected number of fields accordingly\n",
        "            cleaned_data.append(row)\n",
        "        else:\n",
        "            print(f\"Skipping line {index+1} with {len(row)} fields.\")\n",
        "    except Exception as e:\n",
        "        print(f\"Error on line {index+1}: {str(e)}\")\n"
      ],
      "metadata": {
        "colab": {
          "base_uri": "https://localhost:8080/"
        },
        "id": "vFxyr5fgRLPn",
        "outputId": "369738cf-3ddb-4d3a-88a9-479e4289e248"
      },
      "execution_count": null,
      "outputs": [
        {
          "output_type": "stream",
          "name": "stdout",
          "text": [
            "Skipping line 7655 with 42 fields.\n",
            "Skipping line 28027 with 49 fields.\n",
            "Skipping line 29868 with 42 fields.\n",
            "Skipping line 41317 with 49 fields.\n",
            "Skipping line 50334 with 42 fields.\n",
            "Skipping line 57183 with 42 fields.\n",
            "Skipping line 61465 with 49 fields.\n",
            "Skipping line 68522 with 49 fields.\n",
            "Skipping line 74582 with 42 fields.\n",
            "Skipping line 83509 with 42 fields.\n",
            "Skipping line 94944 with 42 fields.\n",
            "Skipping line 130829 with 42 fields.\n",
            "Skipping line 163627 with 42 fields.\n",
            "Skipping line 185137 with 42 fields.\n",
            "Skipping line 197897 with 42 fields.\n",
            "Skipping line 206057 with 42 fields.\n",
            "Skipping line 213623 with 42 fields.\n",
            "Skipping line 216084 with 42 fields.\n",
            "Skipping line 227679 with 49 fields.\n",
            "Skipping line 251548 with 42 fields.\n",
            "Skipping line 261391 with 42 fields.\n",
            "Skipping line 262030 with 42 fields.\n",
            "Skipping line 264908 with 42 fields.\n",
            "Skipping line 287859 with 42 fields.\n",
            "Skipping line 299433 with 42 fields.\n",
            "Skipping line 311877 with 42 fields.\n",
            "Skipping line 313477 with 42 fields.\n",
            "Skipping line 322023 with 42 fields.\n",
            "Skipping line 324768 with 42 fields.\n",
            "Skipping line 337682 with 42 fields.\n",
            "Skipping line 338488 with 42 fields.\n",
            "Skipping line 339520 with 42 fields.\n",
            "Skipping line 349423 with 42 fields.\n",
            "Skipping line 369734 with 49 fields.\n",
            "Skipping line 378702 with 45 fields.\n",
            "Skipping line 418657 with 49 fields.\n",
            "Skipping line 449543 with 42 fields.\n",
            "Skipping line 461649 with 49 fields.\n",
            "Skipping line 466375 with 49 fields.\n",
            "Skipping line 473517 with 49 fields.\n",
            "Skipping line 475529 with 49 fields.\n",
            "Skipping line 492187 with 42 fields.\n",
            "Skipping line 496866 with 42 fields.\n",
            "Skipping line 534249 with 42 fields.\n",
            "Skipping line 539042 with 49 fields.\n",
            "Skipping line 562932 with 42 fields.\n",
            "Skipping line 563198 with 42 fields.\n",
            "Skipping line 566240 with 49 fields.\n",
            "Skipping line 571182 with 42 fields.\n",
            "Skipping line 583341 with 42 fields.\n",
            "Skipping line 588749 with 42 fields.\n",
            "Skipping line 591549 with 42 fields.\n",
            "Skipping line 591893 with 49 fields.\n",
            "Skipping line 595608 with 42 fields.\n",
            "Skipping line 596193 with 42 fields.\n",
            "Skipping line 596194 with 42 fields.\n",
            "Skipping line 601182 with 57 fields.\n",
            "Skipping line 623671 with 42 fields.\n",
            "Skipping line 625063 with 42 fields.\n",
            "Skipping line 633708 with 42 fields.\n",
            "Skipping line 636424 with 42 fields.\n",
            "Skipping line 642211 with 42 fields.\n",
            "Skipping line 644971 with 42 fields.\n",
            "Skipping line 649294 with 42 fields.\n",
            "Skipping line 662233 with 43 fields.\n",
            "Skipping line 688315 with 42 fields.\n",
            "Skipping line 697611 with 42 fields.\n",
            "Skipping line 700575 with 42 fields.\n",
            "Skipping line 702178 with 49 fields.\n",
            "Skipping line 705345 with 42 fields.\n"
          ]
        }
      ]
    },
    {
      "cell_type": "code",
      "source": [
        "with open('cleaned_data.csv', 'w', newline='') as file:\n",
        "    csv_writer = csv.writer(file)\n",
        "    csv_writer.writerows(cleaned_data)\n"
      ],
      "metadata": {
        "id": "njpJBr7VTvi7"
      },
      "execution_count": null,
      "outputs": []
    },
    {
      "cell_type": "markdown",
      "source": [
        "#Reload the Data"
      ],
      "metadata": {
        "id": "Cx0hHBwkVd9y"
      }
    },
    {
      "cell_type": "code",
      "source": [
        "import pandas as pd\n",
        "df = pd.read_csv('cleaned_data.csv')\n",
        "print('Total Row : ', len(df))\n",
        "df.head(5)"
      ],
      "metadata": {
        "colab": {
          "base_uri": "https://localhost:8080/",
          "height": 734
        },
        "id": "q-vrm4C4T7m4",
        "outputId": "525da36c-a65b-4fc7-abc9-8bcf8196c9a7"
      },
      "execution_count": null,
      "outputs": [
        {
          "output_type": "stream",
          "name": "stdout",
          "text": [
            "Total Row :  742582\n"
          ]
        },
        {
          "output_type": "execute_result",
          "data": {
            "text/plain": [
              "                                     hash_content_id  \\\n",
              "0  003f6dad4ab48a4e39ea262b19e3b42a4b53c2175078b3...   \n",
              "1  0079c67ae8c7f6cbd44768f1988196c137326f3058d995...   \n",
              "2  0079c67ae8c7f6cbd44768f1988196c137326f3058d995...   \n",
              "3  0079c67ae8c7f6cbd44768f1988196c137326f3058d995...   \n",
              "4  0079c67ae8c7f6cbd44768f1988196c137326f3058d995...   \n",
              "\n",
              "                                        hash_play_id  \\\n",
              "0  515dd4d7af23ae9ef5a2455bc97ee765fe86224ebaca71...   \n",
              "1  047f7b21bcb1a57119229958b11abe364ce1a279f8ae00...   \n",
              "2  2623b2970635a15f1cf12bf9aa1e4d545135593e6a860c...   \n",
              "3  4850defe8308149c097ff7adfe6fbdab1385a4d2ea7038...   \n",
              "4  ae0cb715407a6694fb052f4d25b9c87e97ab6ccafdb388...   \n",
              "\n",
              "                                       hash_visit_id  \\\n",
              "0  ed8d97adbba52562575973553003d9a13b103bc4693a6c...   \n",
              "1  88a404df574ba3c637bb99e94a2e51b16114f5da6f99cd...   \n",
              "2  24abc04f114c9cb0c2087568093a909f04b3a567041fff...   \n",
              "3  f1279ae82e3c45f7591ad8e43f69a87d7444bf1c4b70b1...   \n",
              "4  151db218c9cbad4d9fa1b1196fd998a63a8314698580a6...   \n",
              "\n",
              "                                     hash_watcher_id hash_film_id  \\\n",
              "0  3ba64f349972d4c7c05eb08e6b91db156a91af555ded6f...          NaN   \n",
              "1  36fd7b04f88ef3d6f16326ae4a39fcf2e4b1dec052919c...          NaN   \n",
              "2  4906987a7a6c3e27895e1adfd200d38e4f4fd87eb9ce96...          NaN   \n",
              "3  adaf91b743f2f1d7b93819b22c016ca700182bd1a5b854...          NaN   \n",
              "4  15689b6aebb6b896c7fdadb516c9754a34a2fcfb772dc3...          NaN   \n",
              "\n",
              "                                       hash_event_id  is_login  \\\n",
              "0  175c473e6bbf67c337bdbd14c9dbdf01c627bfe5af17c1...      True   \n",
              "1  6f8d1372d0128e141c7ef87649d9ec46328d327c2a21d4...     False   \n",
              "2  e73122fb4da263f0825c2ae5ac5c5a18da3a45c44b49e6...     False   \n",
              "3  1e8d1186fbc7677e10aa4a512f20ec01348e3e7f9e4cb7...     False   \n",
              "4  210d2693895749e26711ee890ef41c461994ce91a673aa...     False   \n",
              "\n",
              "  playback_location    platform                 play_time  ...  app_version  \\\n",
              "0            direct  tv-android  2020-02-15T12:07:00.000Z  ...  1.11.0 (50)   \n",
              "1             embed  web-mobile  2020-02-14T18:37:52.000Z  ...          NaN   \n",
              "2             embed  web-mobile  2020-02-15T11:58:24.000Z  ...          NaN   \n",
              "3             embed  web-mobile  2020-02-15T06:36:08.000Z  ...          NaN   \n",
              "4             embed  web-mobile  2020-02-15T01:53:03.000Z  ...          NaN   \n",
              "\n",
              "  city  play_duration content_type  stream_type  \\\n",
              "0  NaN           1263          vod          NaN   \n",
              "1  NaN              0          vod          NaN   \n",
              "2  NaN              8          vod          NaN   \n",
              "3  NaN             53          vod          NaN   \n",
              "4  NaN             53          vod          NaN   \n",
              "\n",
              "                                               title category_name film_title  \\\n",
              "0           FTV SCTV - Kecubit Cinta Sahabat Chantiq        Movies        NaN   \n",
              "1  Viral Seorang Siswi Dibully di Kelas, Gubernur...          News        NaN   \n",
              "2  Viral Seorang Siswi Dibully di Kelas, Gubernur...          News        NaN   \n",
              "3  Viral Seorang Siswi Dibully di Kelas, Gubernur...          News        NaN   \n",
              "4  Viral Seorang Siswi Dibully di Kelas, Gubernur...          News        NaN   \n",
              "\n",
              "  season_name genre_name  \n",
              "0         NaN        NaN  \n",
              "1         NaN        NaN  \n",
              "2         NaN        NaN  \n",
              "3         NaN        NaN  \n",
              "4         NaN        NaN  \n",
              "\n",
              "[5 rows x 41 columns]"
            ],
            "text/html": [
              "\n",
              "  <div id=\"df-bcc8f0cc-8d22-48f2-9f08-57e1f801760c\">\n",
              "    <div class=\"colab-df-container\">\n",
              "      <div>\n",
              "<style scoped>\n",
              "    .dataframe tbody tr th:only-of-type {\n",
              "        vertical-align: middle;\n",
              "    }\n",
              "\n",
              "    .dataframe tbody tr th {\n",
              "        vertical-align: top;\n",
              "    }\n",
              "\n",
              "    .dataframe thead th {\n",
              "        text-align: right;\n",
              "    }\n",
              "</style>\n",
              "<table border=\"1\" class=\"dataframe\">\n",
              "  <thead>\n",
              "    <tr style=\"text-align: right;\">\n",
              "      <th></th>\n",
              "      <th>hash_content_id</th>\n",
              "      <th>hash_play_id</th>\n",
              "      <th>hash_visit_id</th>\n",
              "      <th>hash_watcher_id</th>\n",
              "      <th>hash_film_id</th>\n",
              "      <th>hash_event_id</th>\n",
              "      <th>is_login</th>\n",
              "      <th>playback_location</th>\n",
              "      <th>platform</th>\n",
              "      <th>play_time</th>\n",
              "      <th>...</th>\n",
              "      <th>app_version</th>\n",
              "      <th>city</th>\n",
              "      <th>play_duration</th>\n",
              "      <th>content_type</th>\n",
              "      <th>stream_type</th>\n",
              "      <th>title</th>\n",
              "      <th>category_name</th>\n",
              "      <th>film_title</th>\n",
              "      <th>season_name</th>\n",
              "      <th>genre_name</th>\n",
              "    </tr>\n",
              "  </thead>\n",
              "  <tbody>\n",
              "    <tr>\n",
              "      <th>0</th>\n",
              "      <td>003f6dad4ab48a4e39ea262b19e3b42a4b53c2175078b3...</td>\n",
              "      <td>515dd4d7af23ae9ef5a2455bc97ee765fe86224ebaca71...</td>\n",
              "      <td>ed8d97adbba52562575973553003d9a13b103bc4693a6c...</td>\n",
              "      <td>3ba64f349972d4c7c05eb08e6b91db156a91af555ded6f...</td>\n",
              "      <td>NaN</td>\n",
              "      <td>175c473e6bbf67c337bdbd14c9dbdf01c627bfe5af17c1...</td>\n",
              "      <td>True</td>\n",
              "      <td>direct</td>\n",
              "      <td>tv-android</td>\n",
              "      <td>2020-02-15T12:07:00.000Z</td>\n",
              "      <td>...</td>\n",
              "      <td>1.11.0 (50)</td>\n",
              "      <td>NaN</td>\n",
              "      <td>1263</td>\n",
              "      <td>vod</td>\n",
              "      <td>NaN</td>\n",
              "      <td>FTV SCTV - Kecubit Cinta Sahabat Chantiq</td>\n",
              "      <td>Movies</td>\n",
              "      <td>NaN</td>\n",
              "      <td>NaN</td>\n",
              "      <td>NaN</td>\n",
              "    </tr>\n",
              "    <tr>\n",
              "      <th>1</th>\n",
              "      <td>0079c67ae8c7f6cbd44768f1988196c137326f3058d995...</td>\n",
              "      <td>047f7b21bcb1a57119229958b11abe364ce1a279f8ae00...</td>\n",
              "      <td>88a404df574ba3c637bb99e94a2e51b16114f5da6f99cd...</td>\n",
              "      <td>36fd7b04f88ef3d6f16326ae4a39fcf2e4b1dec052919c...</td>\n",
              "      <td>NaN</td>\n",
              "      <td>6f8d1372d0128e141c7ef87649d9ec46328d327c2a21d4...</td>\n",
              "      <td>False</td>\n",
              "      <td>embed</td>\n",
              "      <td>web-mobile</td>\n",
              "      <td>2020-02-14T18:37:52.000Z</td>\n",
              "      <td>...</td>\n",
              "      <td>NaN</td>\n",
              "      <td>NaN</td>\n",
              "      <td>0</td>\n",
              "      <td>vod</td>\n",
              "      <td>NaN</td>\n",
              "      <td>Viral Seorang Siswi Dibully di Kelas, Gubernur...</td>\n",
              "      <td>News</td>\n",
              "      <td>NaN</td>\n",
              "      <td>NaN</td>\n",
              "      <td>NaN</td>\n",
              "    </tr>\n",
              "    <tr>\n",
              "      <th>2</th>\n",
              "      <td>0079c67ae8c7f6cbd44768f1988196c137326f3058d995...</td>\n",
              "      <td>2623b2970635a15f1cf12bf9aa1e4d545135593e6a860c...</td>\n",
              "      <td>24abc04f114c9cb0c2087568093a909f04b3a567041fff...</td>\n",
              "      <td>4906987a7a6c3e27895e1adfd200d38e4f4fd87eb9ce96...</td>\n",
              "      <td>NaN</td>\n",
              "      <td>e73122fb4da263f0825c2ae5ac5c5a18da3a45c44b49e6...</td>\n",
              "      <td>False</td>\n",
              "      <td>embed</td>\n",
              "      <td>web-mobile</td>\n",
              "      <td>2020-02-15T11:58:24.000Z</td>\n",
              "      <td>...</td>\n",
              "      <td>NaN</td>\n",
              "      <td>NaN</td>\n",
              "      <td>8</td>\n",
              "      <td>vod</td>\n",
              "      <td>NaN</td>\n",
              "      <td>Viral Seorang Siswi Dibully di Kelas, Gubernur...</td>\n",
              "      <td>News</td>\n",
              "      <td>NaN</td>\n",
              "      <td>NaN</td>\n",
              "      <td>NaN</td>\n",
              "    </tr>\n",
              "    <tr>\n",
              "      <th>3</th>\n",
              "      <td>0079c67ae8c7f6cbd44768f1988196c137326f3058d995...</td>\n",
              "      <td>4850defe8308149c097ff7adfe6fbdab1385a4d2ea7038...</td>\n",
              "      <td>f1279ae82e3c45f7591ad8e43f69a87d7444bf1c4b70b1...</td>\n",
              "      <td>adaf91b743f2f1d7b93819b22c016ca700182bd1a5b854...</td>\n",
              "      <td>NaN</td>\n",
              "      <td>1e8d1186fbc7677e10aa4a512f20ec01348e3e7f9e4cb7...</td>\n",
              "      <td>False</td>\n",
              "      <td>embed</td>\n",
              "      <td>web-mobile</td>\n",
              "      <td>2020-02-15T06:36:08.000Z</td>\n",
              "      <td>...</td>\n",
              "      <td>NaN</td>\n",
              "      <td>NaN</td>\n",
              "      <td>53</td>\n",
              "      <td>vod</td>\n",
              "      <td>NaN</td>\n",
              "      <td>Viral Seorang Siswi Dibully di Kelas, Gubernur...</td>\n",
              "      <td>News</td>\n",
              "      <td>NaN</td>\n",
              "      <td>NaN</td>\n",
              "      <td>NaN</td>\n",
              "    </tr>\n",
              "    <tr>\n",
              "      <th>4</th>\n",
              "      <td>0079c67ae8c7f6cbd44768f1988196c137326f3058d995...</td>\n",
              "      <td>ae0cb715407a6694fb052f4d25b9c87e97ab6ccafdb388...</td>\n",
              "      <td>151db218c9cbad4d9fa1b1196fd998a63a8314698580a6...</td>\n",
              "      <td>15689b6aebb6b896c7fdadb516c9754a34a2fcfb772dc3...</td>\n",
              "      <td>NaN</td>\n",
              "      <td>210d2693895749e26711ee890ef41c461994ce91a673aa...</td>\n",
              "      <td>False</td>\n",
              "      <td>embed</td>\n",
              "      <td>web-mobile</td>\n",
              "      <td>2020-02-15T01:53:03.000Z</td>\n",
              "      <td>...</td>\n",
              "      <td>NaN</td>\n",
              "      <td>NaN</td>\n",
              "      <td>53</td>\n",
              "      <td>vod</td>\n",
              "      <td>NaN</td>\n",
              "      <td>Viral Seorang Siswi Dibully di Kelas, Gubernur...</td>\n",
              "      <td>News</td>\n",
              "      <td>NaN</td>\n",
              "      <td>NaN</td>\n",
              "      <td>NaN</td>\n",
              "    </tr>\n",
              "  </tbody>\n",
              "</table>\n",
              "<p>5 rows × 41 columns</p>\n",
              "</div>\n",
              "      <button class=\"colab-df-convert\" onclick=\"convertToInteractive('df-bcc8f0cc-8d22-48f2-9f08-57e1f801760c')\"\n",
              "              title=\"Convert this dataframe to an interactive table.\"\n",
              "              style=\"display:none;\">\n",
              "        \n",
              "  <svg xmlns=\"http://www.w3.org/2000/svg\" height=\"24px\"viewBox=\"0 0 24 24\"\n",
              "       width=\"24px\">\n",
              "    <path d=\"M0 0h24v24H0V0z\" fill=\"none\"/>\n",
              "    <path d=\"M18.56 5.44l.94 2.06.94-2.06 2.06-.94-2.06-.94-.94-2.06-.94 2.06-2.06.94zm-11 1L8.5 8.5l.94-2.06 2.06-.94-2.06-.94L8.5 2.5l-.94 2.06-2.06.94zm10 10l.94 2.06.94-2.06 2.06-.94-2.06-.94-.94-2.06-.94 2.06-2.06.94z\"/><path d=\"M17.41 7.96l-1.37-1.37c-.4-.4-.92-.59-1.43-.59-.52 0-1.04.2-1.43.59L10.3 9.45l-7.72 7.72c-.78.78-.78 2.05 0 2.83L4 21.41c.39.39.9.59 1.41.59.51 0 1.02-.2 1.41-.59l7.78-7.78 2.81-2.81c.8-.78.8-2.07 0-2.86zM5.41 20L4 18.59l7.72-7.72 1.47 1.35L5.41 20z\"/>\n",
              "  </svg>\n",
              "      </button>\n",
              "      \n",
              "  <style>\n",
              "    .colab-df-container {\n",
              "      display:flex;\n",
              "      flex-wrap:wrap;\n",
              "      gap: 12px;\n",
              "    }\n",
              "\n",
              "    .colab-df-convert {\n",
              "      background-color: #E8F0FE;\n",
              "      border: none;\n",
              "      border-radius: 50%;\n",
              "      cursor: pointer;\n",
              "      display: none;\n",
              "      fill: #1967D2;\n",
              "      height: 32px;\n",
              "      padding: 0 0 0 0;\n",
              "      width: 32px;\n",
              "    }\n",
              "\n",
              "    .colab-df-convert:hover {\n",
              "      background-color: #E2EBFA;\n",
              "      box-shadow: 0px 1px 2px rgba(60, 64, 67, 0.3), 0px 1px 3px 1px rgba(60, 64, 67, 0.15);\n",
              "      fill: #174EA6;\n",
              "    }\n",
              "\n",
              "    [theme=dark] .colab-df-convert {\n",
              "      background-color: #3B4455;\n",
              "      fill: #D2E3FC;\n",
              "    }\n",
              "\n",
              "    [theme=dark] .colab-df-convert:hover {\n",
              "      background-color: #434B5C;\n",
              "      box-shadow: 0px 1px 3px 1px rgba(0, 0, 0, 0.15);\n",
              "      filter: drop-shadow(0px 1px 2px rgba(0, 0, 0, 0.3));\n",
              "      fill: #FFFFFF;\n",
              "    }\n",
              "  </style>\n",
              "\n",
              "      <script>\n",
              "        const buttonEl =\n",
              "          document.querySelector('#df-bcc8f0cc-8d22-48f2-9f08-57e1f801760c button.colab-df-convert');\n",
              "        buttonEl.style.display =\n",
              "          google.colab.kernel.accessAllowed ? 'block' : 'none';\n",
              "\n",
              "        async function convertToInteractive(key) {\n",
              "          const element = document.querySelector('#df-bcc8f0cc-8d22-48f2-9f08-57e1f801760c');\n",
              "          const dataTable =\n",
              "            await google.colab.kernel.invokeFunction('convertToInteractive',\n",
              "                                                     [key], {});\n",
              "          if (!dataTable) return;\n",
              "\n",
              "          const docLinkHtml = 'Like what you see? Visit the ' +\n",
              "            '<a target=\"_blank\" href=https://colab.research.google.com/notebooks/data_table.ipynb>data table notebook</a>'\n",
              "            + ' to learn more about interactive tables.';\n",
              "          element.innerHTML = '';\n",
              "          dataTable['output_type'] = 'display_data';\n",
              "          await google.colab.output.renderOutput(dataTable, element);\n",
              "          const docLink = document.createElement('div');\n",
              "          docLink.innerHTML = docLinkHtml;\n",
              "          element.appendChild(docLink);\n",
              "        }\n",
              "      </script>\n",
              "    </div>\n",
              "  </div>\n",
              "  "
            ]
          },
          "metadata": {},
          "execution_count": 5
        }
      ]
    },
    {
      "cell_type": "markdown",
      "source": [
        "#Data Understanding & Preparation\n",
        "\n"
      ],
      "metadata": {
        "id": "ZGryDDSOXwKp"
      }
    },
    {
      "cell_type": "markdown",
      "source": [
        "##Describe data"
      ],
      "metadata": {
        "id": "rP7Gn7PJXzPS"
      }
    },
    {
      "cell_type": "code",
      "source": [
        "df.info()"
      ],
      "metadata": {
        "colab": {
          "base_uri": "https://localhost:8080/"
        },
        "id": "eN7svOFlU93e",
        "outputId": "6430cbe9-4eac-49df-d0db-38a381580610"
      },
      "execution_count": null,
      "outputs": [
        {
          "output_type": "stream",
          "name": "stdout",
          "text": [
            "<class 'pandas.core.frame.DataFrame'>\n",
            "RangeIndex: 742582 entries, 0 to 742581\n",
            "Data columns (total 41 columns):\n",
            " #   Column             Non-Null Count   Dtype  \n",
            "---  ------             --------------   -----  \n",
            " 0   hash_content_id    742582 non-null  object \n",
            " 1   hash_play_id       742582 non-null  object \n",
            " 2   hash_visit_id      742582 non-null  object \n",
            " 3   hash_watcher_id    742582 non-null  object \n",
            " 4   hash_film_id       40525 non-null   object \n",
            " 5   hash_event_id      742582 non-null  object \n",
            " 6   is_login           742582 non-null  bool   \n",
            " 7   playback_location  742582 non-null  object \n",
            " 8   platform           742582 non-null  object \n",
            " 9   play_time          742582 non-null  object \n",
            " 10  end_time           742582 non-null  object \n",
            " 11  referrer           702119 non-null  object \n",
            " 12  average_bitrate    707495 non-null  float64\n",
            " 13  bitrate_range      742582 non-null  object \n",
            " 14  total_bytes        742582 non-null  int64  \n",
            " 15  buffer_duration    742582 non-null  float64\n",
            " 16  referrer_group     742582 non-null  object \n",
            " 17  completed          471562 non-null  object \n",
            " 18  utm_source         785 non-null     object \n",
            " 19  utm_medium         782 non-null     object \n",
            " 20  utm_campaign       332 non-null     object \n",
            " 21  player_name        719707 non-null  object \n",
            " 22  has_ad             742582 non-null  bool   \n",
            " 23  flash_version      499652 non-null  object \n",
            " 24  os_name            507258 non-null  object \n",
            " 25  os_version         739848 non-null  object \n",
            " 26  browser_name       507873 non-null  object \n",
            " 27  browser_version    491074 non-null  object \n",
            " 28  app_name           742582 non-null  object \n",
            " 29  autoplay           471415 non-null  object \n",
            " 30  is_premium         742582 non-null  bool   \n",
            " 31  app_version        241680 non-null  object \n",
            " 32  city               0 non-null       float64\n",
            " 33  play_duration      742582 non-null  int64  \n",
            " 34  content_type       742582 non-null  object \n",
            " 35  stream_type        271020 non-null  object \n",
            " 36  title              742582 non-null  object \n",
            " 37  category_name      471562 non-null  object \n",
            " 38  film_title         40512 non-null   object \n",
            " 39  season_name        40525 non-null   object \n",
            " 40  genre_name         36031 non-null   object \n",
            "dtypes: bool(3), float64(3), int64(2), object(33)\n",
            "memory usage: 217.4+ MB\n"
          ]
        }
      ]
    },
    {
      "cell_type": "markdown",
      "source": [
        "##Check the missing value"
      ],
      "metadata": {
        "id": "K-NetnvqaLXw"
      }
    },
    {
      "cell_type": "code",
      "source": [
        "# Missing value percentage for each column\n",
        "column_null_percentage = df.isnull().mean() * 100\n",
        "print(column_null_percentage)"
      ],
      "metadata": {
        "colab": {
          "base_uri": "https://localhost:8080/"
        },
        "id": "1T8Bu24lYLuv",
        "outputId": "1ff7a1b7-2c1a-4c10-b448-9ddf98cc2b9e"
      },
      "execution_count": null,
      "outputs": [
        {
          "output_type": "stream",
          "name": "stdout",
          "text": [
            "hash_content_id        0.000000\n",
            "hash_play_id           0.000000\n",
            "hash_visit_id          0.000000\n",
            "hash_watcher_id        0.000000\n",
            "hash_film_id          94.542690\n",
            "hash_event_id          0.000000\n",
            "is_login               0.000000\n",
            "playback_location      0.000000\n",
            "platform               0.000000\n",
            "play_time              0.000000\n",
            "end_time               0.000000\n",
            "referrer               5.448961\n",
            "average_bitrate        4.725000\n",
            "bitrate_range          0.000000\n",
            "total_bytes            0.000000\n",
            "buffer_duration        0.000000\n",
            "referrer_group         0.000000\n",
            "completed             36.496979\n",
            "utm_source            99.894288\n",
            "utm_medium            99.894692\n",
            "utm_campaign          99.955291\n",
            "player_name            3.080468\n",
            "has_ad                 0.000000\n",
            "flash_version         32.714232\n",
            "os_name               31.689968\n",
            "os_version             0.368175\n",
            "browser_name          31.607149\n",
            "browser_version       33.869391\n",
            "app_name               0.000000\n",
            "autoplay              36.516775\n",
            "is_premium             0.000000\n",
            "app_version           67.454099\n",
            "city                 100.000000\n",
            "play_duration          0.000000\n",
            "content_type           0.000000\n",
            "stream_type           63.503021\n",
            "title                  0.000000\n",
            "category_name         36.496979\n",
            "film_title            94.544441\n",
            "season_name           94.542690\n",
            "genre_name            95.147876\n",
            "dtype: float64\n"
          ]
        }
      ]
    },
    {
      "cell_type": "markdown",
      "source": [
        "for columns with missing value >50% will be dropped because lack of sufficient information and potentially biased. the remaining columns with missing value will be retained and handled"
      ],
      "metadata": {
        "id": "DAzKXQGvaSol"
      }
    },
    {
      "cell_type": "markdown",
      "source": [
        "##Handling Missing Value"
      ],
      "metadata": {
        "id": "tIbmZ3VzwxBE"
      }
    },
    {
      "cell_type": "code",
      "source": [
        "# drop columns with missing value >50%\n",
        "columns_to_drop = column_null_percentage[column_null_percentage > 50].index\n",
        "df_dropped = df.drop(columns=columns_to_drop)"
      ],
      "metadata": {
        "id": "j_pASRCfZuf6"
      },
      "execution_count": null,
      "outputs": []
    },
    {
      "cell_type": "code",
      "source": [
        "df_dropped.info()"
      ],
      "metadata": {
        "colab": {
          "base_uri": "https://localhost:8080/"
        },
        "id": "ES8WT_BQr4WO",
        "outputId": "92489cca-02d1-49ee-c328-87032b38687d"
      },
      "execution_count": null,
      "outputs": [
        {
          "output_type": "stream",
          "name": "stdout",
          "text": [
            "<class 'pandas.core.frame.DataFrame'>\n",
            "RangeIndex: 742582 entries, 0 to 742581\n",
            "Data columns (total 31 columns):\n",
            " #   Column             Non-Null Count   Dtype  \n",
            "---  ------             --------------   -----  \n",
            " 0   hash_content_id    742582 non-null  object \n",
            " 1   hash_play_id       742582 non-null  object \n",
            " 2   hash_visit_id      742582 non-null  object \n",
            " 3   hash_watcher_id    742582 non-null  object \n",
            " 4   hash_event_id      742582 non-null  object \n",
            " 5   is_login           742582 non-null  bool   \n",
            " 6   playback_location  742582 non-null  object \n",
            " 7   platform           742582 non-null  object \n",
            " 8   play_time          742582 non-null  object \n",
            " 9   end_time           742582 non-null  object \n",
            " 10  referrer           702119 non-null  object \n",
            " 11  average_bitrate    707495 non-null  float64\n",
            " 12  bitrate_range      742582 non-null  object \n",
            " 13  total_bytes        742582 non-null  int64  \n",
            " 14  buffer_duration    742582 non-null  float64\n",
            " 15  referrer_group     742582 non-null  object \n",
            " 16  completed          471562 non-null  object \n",
            " 17  player_name        719707 non-null  object \n",
            " 18  has_ad             742582 non-null  bool   \n",
            " 19  flash_version      499652 non-null  object \n",
            " 20  os_name            507258 non-null  object \n",
            " 21  os_version         739848 non-null  object \n",
            " 22  browser_name       507873 non-null  object \n",
            " 23  browser_version    491074 non-null  object \n",
            " 24  app_name           742582 non-null  object \n",
            " 25  autoplay           471415 non-null  object \n",
            " 26  is_premium         742582 non-null  bool   \n",
            " 27  play_duration      742582 non-null  int64  \n",
            " 28  content_type       742582 non-null  object \n",
            " 29  title              742582 non-null  object \n",
            " 30  category_name      471562 non-null  object \n",
            "dtypes: bool(3), float64(2), int64(2), object(24)\n",
            "memory usage: 160.8+ MB\n"
          ]
        }
      ]
    },
    {
      "cell_type": "code",
      "source": [
        "df_dropped.head(5)"
      ],
      "metadata": {
        "colab": {
          "base_uri": "https://localhost:8080/",
          "height": 716
        },
        "id": "KuuWy4GpDGsd",
        "outputId": "53e7b458-0d52-45d4-c4f1-72774ed788ad"
      },
      "execution_count": null,
      "outputs": [
        {
          "output_type": "execute_result",
          "data": {
            "text/plain": [
              "                                     hash_content_id  \\\n",
              "0  003f6dad4ab48a4e39ea262b19e3b42a4b53c2175078b3...   \n",
              "1  0079c67ae8c7f6cbd44768f1988196c137326f3058d995...   \n",
              "2  0079c67ae8c7f6cbd44768f1988196c137326f3058d995...   \n",
              "3  0079c67ae8c7f6cbd44768f1988196c137326f3058d995...   \n",
              "4  0079c67ae8c7f6cbd44768f1988196c137326f3058d995...   \n",
              "\n",
              "                                        hash_play_id  \\\n",
              "0  515dd4d7af23ae9ef5a2455bc97ee765fe86224ebaca71...   \n",
              "1  047f7b21bcb1a57119229958b11abe364ce1a279f8ae00...   \n",
              "2  2623b2970635a15f1cf12bf9aa1e4d545135593e6a860c...   \n",
              "3  4850defe8308149c097ff7adfe6fbdab1385a4d2ea7038...   \n",
              "4  ae0cb715407a6694fb052f4d25b9c87e97ab6ccafdb388...   \n",
              "\n",
              "                                       hash_visit_id  \\\n",
              "0  ed8d97adbba52562575973553003d9a13b103bc4693a6c...   \n",
              "1  88a404df574ba3c637bb99e94a2e51b16114f5da6f99cd...   \n",
              "2  24abc04f114c9cb0c2087568093a909f04b3a567041fff...   \n",
              "3  f1279ae82e3c45f7591ad8e43f69a87d7444bf1c4b70b1...   \n",
              "4  151db218c9cbad4d9fa1b1196fd998a63a8314698580a6...   \n",
              "\n",
              "                                     hash_watcher_id  \\\n",
              "0  3ba64f349972d4c7c05eb08e6b91db156a91af555ded6f...   \n",
              "1  36fd7b04f88ef3d6f16326ae4a39fcf2e4b1dec052919c...   \n",
              "2  4906987a7a6c3e27895e1adfd200d38e4f4fd87eb9ce96...   \n",
              "3  adaf91b743f2f1d7b93819b22c016ca700182bd1a5b854...   \n",
              "4  15689b6aebb6b896c7fdadb516c9754a34a2fcfb772dc3...   \n",
              "\n",
              "                                       hash_event_id  is_login  \\\n",
              "0  175c473e6bbf67c337bdbd14c9dbdf01c627bfe5af17c1...      True   \n",
              "1  6f8d1372d0128e141c7ef87649d9ec46328d327c2a21d4...     False   \n",
              "2  e73122fb4da263f0825c2ae5ac5c5a18da3a45c44b49e6...     False   \n",
              "3  1e8d1186fbc7677e10aa4a512f20ec01348e3e7f9e4cb7...     False   \n",
              "4  210d2693895749e26711ee890ef41c461994ce91a673aa...     False   \n",
              "\n",
              "  playback_location    platform                 play_time  \\\n",
              "0            direct  tv-android  2020-02-15T12:07:00.000Z   \n",
              "1             embed  web-mobile  2020-02-14T18:37:52.000Z   \n",
              "2             embed  web-mobile  2020-02-15T11:58:24.000Z   \n",
              "3             embed  web-mobile  2020-02-15T06:36:08.000Z   \n",
              "4             embed  web-mobile  2020-02-15T01:53:03.000Z   \n",
              "\n",
              "                   end_time  ... os_version  browser_name browser_version  \\\n",
              "0  2020-02-15T12:28:49.000Z  ...         28           NaN             NaN   \n",
              "1  2020-02-14T18:37:52.000Z  ...      6.0.1          LINE          10.1.1   \n",
              "2  2020-02-15T11:59:01.000Z  ...          9      Facebook         256.0.0   \n",
              "3  2020-02-15T06:37:08.000Z  ...      8.1.0      Facebook         256.0.0   \n",
              "4  2020-02-15T01:53:57.000Z  ...      8.0.0          LINE          10.0.2   \n",
              "\n",
              "   app_name  autoplay is_premium play_duration content_type  \\\n",
              "0     vidio      True      False          1263          vod   \n",
              "1     vidio     False      False             0          vod   \n",
              "2     vidio     False      False             8          vod   \n",
              "3     vidio     False      False            53          vod   \n",
              "4     vidio     False      False            53          vod   \n",
              "\n",
              "                                               title category_name  \n",
              "0           FTV SCTV - Kecubit Cinta Sahabat Chantiq        Movies  \n",
              "1  Viral Seorang Siswi Dibully di Kelas, Gubernur...          News  \n",
              "2  Viral Seorang Siswi Dibully di Kelas, Gubernur...          News  \n",
              "3  Viral Seorang Siswi Dibully di Kelas, Gubernur...          News  \n",
              "4  Viral Seorang Siswi Dibully di Kelas, Gubernur...          News  \n",
              "\n",
              "[5 rows x 31 columns]"
            ],
            "text/html": [
              "\n",
              "  <div id=\"df-144442f2-c6ba-4dc0-a738-4bd93d4130df\">\n",
              "    <div class=\"colab-df-container\">\n",
              "      <div>\n",
              "<style scoped>\n",
              "    .dataframe tbody tr th:only-of-type {\n",
              "        vertical-align: middle;\n",
              "    }\n",
              "\n",
              "    .dataframe tbody tr th {\n",
              "        vertical-align: top;\n",
              "    }\n",
              "\n",
              "    .dataframe thead th {\n",
              "        text-align: right;\n",
              "    }\n",
              "</style>\n",
              "<table border=\"1\" class=\"dataframe\">\n",
              "  <thead>\n",
              "    <tr style=\"text-align: right;\">\n",
              "      <th></th>\n",
              "      <th>hash_content_id</th>\n",
              "      <th>hash_play_id</th>\n",
              "      <th>hash_visit_id</th>\n",
              "      <th>hash_watcher_id</th>\n",
              "      <th>hash_event_id</th>\n",
              "      <th>is_login</th>\n",
              "      <th>playback_location</th>\n",
              "      <th>platform</th>\n",
              "      <th>play_time</th>\n",
              "      <th>end_time</th>\n",
              "      <th>...</th>\n",
              "      <th>os_version</th>\n",
              "      <th>browser_name</th>\n",
              "      <th>browser_version</th>\n",
              "      <th>app_name</th>\n",
              "      <th>autoplay</th>\n",
              "      <th>is_premium</th>\n",
              "      <th>play_duration</th>\n",
              "      <th>content_type</th>\n",
              "      <th>title</th>\n",
              "      <th>category_name</th>\n",
              "    </tr>\n",
              "  </thead>\n",
              "  <tbody>\n",
              "    <tr>\n",
              "      <th>0</th>\n",
              "      <td>003f6dad4ab48a4e39ea262b19e3b42a4b53c2175078b3...</td>\n",
              "      <td>515dd4d7af23ae9ef5a2455bc97ee765fe86224ebaca71...</td>\n",
              "      <td>ed8d97adbba52562575973553003d9a13b103bc4693a6c...</td>\n",
              "      <td>3ba64f349972d4c7c05eb08e6b91db156a91af555ded6f...</td>\n",
              "      <td>175c473e6bbf67c337bdbd14c9dbdf01c627bfe5af17c1...</td>\n",
              "      <td>True</td>\n",
              "      <td>direct</td>\n",
              "      <td>tv-android</td>\n",
              "      <td>2020-02-15T12:07:00.000Z</td>\n",
              "      <td>2020-02-15T12:28:49.000Z</td>\n",
              "      <td>...</td>\n",
              "      <td>28</td>\n",
              "      <td>NaN</td>\n",
              "      <td>NaN</td>\n",
              "      <td>vidio</td>\n",
              "      <td>True</td>\n",
              "      <td>False</td>\n",
              "      <td>1263</td>\n",
              "      <td>vod</td>\n",
              "      <td>FTV SCTV - Kecubit Cinta Sahabat Chantiq</td>\n",
              "      <td>Movies</td>\n",
              "    </tr>\n",
              "    <tr>\n",
              "      <th>1</th>\n",
              "      <td>0079c67ae8c7f6cbd44768f1988196c137326f3058d995...</td>\n",
              "      <td>047f7b21bcb1a57119229958b11abe364ce1a279f8ae00...</td>\n",
              "      <td>88a404df574ba3c637bb99e94a2e51b16114f5da6f99cd...</td>\n",
              "      <td>36fd7b04f88ef3d6f16326ae4a39fcf2e4b1dec052919c...</td>\n",
              "      <td>6f8d1372d0128e141c7ef87649d9ec46328d327c2a21d4...</td>\n",
              "      <td>False</td>\n",
              "      <td>embed</td>\n",
              "      <td>web-mobile</td>\n",
              "      <td>2020-02-14T18:37:52.000Z</td>\n",
              "      <td>2020-02-14T18:37:52.000Z</td>\n",
              "      <td>...</td>\n",
              "      <td>6.0.1</td>\n",
              "      <td>LINE</td>\n",
              "      <td>10.1.1</td>\n",
              "      <td>vidio</td>\n",
              "      <td>False</td>\n",
              "      <td>False</td>\n",
              "      <td>0</td>\n",
              "      <td>vod</td>\n",
              "      <td>Viral Seorang Siswi Dibully di Kelas, Gubernur...</td>\n",
              "      <td>News</td>\n",
              "    </tr>\n",
              "    <tr>\n",
              "      <th>2</th>\n",
              "      <td>0079c67ae8c7f6cbd44768f1988196c137326f3058d995...</td>\n",
              "      <td>2623b2970635a15f1cf12bf9aa1e4d545135593e6a860c...</td>\n",
              "      <td>24abc04f114c9cb0c2087568093a909f04b3a567041fff...</td>\n",
              "      <td>4906987a7a6c3e27895e1adfd200d38e4f4fd87eb9ce96...</td>\n",
              "      <td>e73122fb4da263f0825c2ae5ac5c5a18da3a45c44b49e6...</td>\n",
              "      <td>False</td>\n",
              "      <td>embed</td>\n",
              "      <td>web-mobile</td>\n",
              "      <td>2020-02-15T11:58:24.000Z</td>\n",
              "      <td>2020-02-15T11:59:01.000Z</td>\n",
              "      <td>...</td>\n",
              "      <td>9</td>\n",
              "      <td>Facebook</td>\n",
              "      <td>256.0.0</td>\n",
              "      <td>vidio</td>\n",
              "      <td>False</td>\n",
              "      <td>False</td>\n",
              "      <td>8</td>\n",
              "      <td>vod</td>\n",
              "      <td>Viral Seorang Siswi Dibully di Kelas, Gubernur...</td>\n",
              "      <td>News</td>\n",
              "    </tr>\n",
              "    <tr>\n",
              "      <th>3</th>\n",
              "      <td>0079c67ae8c7f6cbd44768f1988196c137326f3058d995...</td>\n",
              "      <td>4850defe8308149c097ff7adfe6fbdab1385a4d2ea7038...</td>\n",
              "      <td>f1279ae82e3c45f7591ad8e43f69a87d7444bf1c4b70b1...</td>\n",
              "      <td>adaf91b743f2f1d7b93819b22c016ca700182bd1a5b854...</td>\n",
              "      <td>1e8d1186fbc7677e10aa4a512f20ec01348e3e7f9e4cb7...</td>\n",
              "      <td>False</td>\n",
              "      <td>embed</td>\n",
              "      <td>web-mobile</td>\n",
              "      <td>2020-02-15T06:36:08.000Z</td>\n",
              "      <td>2020-02-15T06:37:08.000Z</td>\n",
              "      <td>...</td>\n",
              "      <td>8.1.0</td>\n",
              "      <td>Facebook</td>\n",
              "      <td>256.0.0</td>\n",
              "      <td>vidio</td>\n",
              "      <td>False</td>\n",
              "      <td>False</td>\n",
              "      <td>53</td>\n",
              "      <td>vod</td>\n",
              "      <td>Viral Seorang Siswi Dibully di Kelas, Gubernur...</td>\n",
              "      <td>News</td>\n",
              "    </tr>\n",
              "    <tr>\n",
              "      <th>4</th>\n",
              "      <td>0079c67ae8c7f6cbd44768f1988196c137326f3058d995...</td>\n",
              "      <td>ae0cb715407a6694fb052f4d25b9c87e97ab6ccafdb388...</td>\n",
              "      <td>151db218c9cbad4d9fa1b1196fd998a63a8314698580a6...</td>\n",
              "      <td>15689b6aebb6b896c7fdadb516c9754a34a2fcfb772dc3...</td>\n",
              "      <td>210d2693895749e26711ee890ef41c461994ce91a673aa...</td>\n",
              "      <td>False</td>\n",
              "      <td>embed</td>\n",
              "      <td>web-mobile</td>\n",
              "      <td>2020-02-15T01:53:03.000Z</td>\n",
              "      <td>2020-02-15T01:53:57.000Z</td>\n",
              "      <td>...</td>\n",
              "      <td>8.0.0</td>\n",
              "      <td>LINE</td>\n",
              "      <td>10.0.2</td>\n",
              "      <td>vidio</td>\n",
              "      <td>False</td>\n",
              "      <td>False</td>\n",
              "      <td>53</td>\n",
              "      <td>vod</td>\n",
              "      <td>Viral Seorang Siswi Dibully di Kelas, Gubernur...</td>\n",
              "      <td>News</td>\n",
              "    </tr>\n",
              "  </tbody>\n",
              "</table>\n",
              "<p>5 rows × 31 columns</p>\n",
              "</div>\n",
              "      <button class=\"colab-df-convert\" onclick=\"convertToInteractive('df-144442f2-c6ba-4dc0-a738-4bd93d4130df')\"\n",
              "              title=\"Convert this dataframe to an interactive table.\"\n",
              "              style=\"display:none;\">\n",
              "        \n",
              "  <svg xmlns=\"http://www.w3.org/2000/svg\" height=\"24px\"viewBox=\"0 0 24 24\"\n",
              "       width=\"24px\">\n",
              "    <path d=\"M0 0h24v24H0V0z\" fill=\"none\"/>\n",
              "    <path d=\"M18.56 5.44l.94 2.06.94-2.06 2.06-.94-2.06-.94-.94-2.06-.94 2.06-2.06.94zm-11 1L8.5 8.5l.94-2.06 2.06-.94-2.06-.94L8.5 2.5l-.94 2.06-2.06.94zm10 10l.94 2.06.94-2.06 2.06-.94-2.06-.94-.94-2.06-.94 2.06-2.06.94z\"/><path d=\"M17.41 7.96l-1.37-1.37c-.4-.4-.92-.59-1.43-.59-.52 0-1.04.2-1.43.59L10.3 9.45l-7.72 7.72c-.78.78-.78 2.05 0 2.83L4 21.41c.39.39.9.59 1.41.59.51 0 1.02-.2 1.41-.59l7.78-7.78 2.81-2.81c.8-.78.8-2.07 0-2.86zM5.41 20L4 18.59l7.72-7.72 1.47 1.35L5.41 20z\"/>\n",
              "  </svg>\n",
              "      </button>\n",
              "      \n",
              "  <style>\n",
              "    .colab-df-container {\n",
              "      display:flex;\n",
              "      flex-wrap:wrap;\n",
              "      gap: 12px;\n",
              "    }\n",
              "\n",
              "    .colab-df-convert {\n",
              "      background-color: #E8F0FE;\n",
              "      border: none;\n",
              "      border-radius: 50%;\n",
              "      cursor: pointer;\n",
              "      display: none;\n",
              "      fill: #1967D2;\n",
              "      height: 32px;\n",
              "      padding: 0 0 0 0;\n",
              "      width: 32px;\n",
              "    }\n",
              "\n",
              "    .colab-df-convert:hover {\n",
              "      background-color: #E2EBFA;\n",
              "      box-shadow: 0px 1px 2px rgba(60, 64, 67, 0.3), 0px 1px 3px 1px rgba(60, 64, 67, 0.15);\n",
              "      fill: #174EA6;\n",
              "    }\n",
              "\n",
              "    [theme=dark] .colab-df-convert {\n",
              "      background-color: #3B4455;\n",
              "      fill: #D2E3FC;\n",
              "    }\n",
              "\n",
              "    [theme=dark] .colab-df-convert:hover {\n",
              "      background-color: #434B5C;\n",
              "      box-shadow: 0px 1px 3px 1px rgba(0, 0, 0, 0.15);\n",
              "      filter: drop-shadow(0px 1px 2px rgba(0, 0, 0, 0.3));\n",
              "      fill: #FFFFFF;\n",
              "    }\n",
              "  </style>\n",
              "\n",
              "      <script>\n",
              "        const buttonEl =\n",
              "          document.querySelector('#df-144442f2-c6ba-4dc0-a738-4bd93d4130df button.colab-df-convert');\n",
              "        buttonEl.style.display =\n",
              "          google.colab.kernel.accessAllowed ? 'block' : 'none';\n",
              "\n",
              "        async function convertToInteractive(key) {\n",
              "          const element = document.querySelector('#df-144442f2-c6ba-4dc0-a738-4bd93d4130df');\n",
              "          const dataTable =\n",
              "            await google.colab.kernel.invokeFunction('convertToInteractive',\n",
              "                                                     [key], {});\n",
              "          if (!dataTable) return;\n",
              "\n",
              "          const docLinkHtml = 'Like what you see? Visit the ' +\n",
              "            '<a target=\"_blank\" href=https://colab.research.google.com/notebooks/data_table.ipynb>data table notebook</a>'\n",
              "            + ' to learn more about interactive tables.';\n",
              "          element.innerHTML = '';\n",
              "          dataTable['output_type'] = 'display_data';\n",
              "          await google.colab.output.renderOutput(dataTable, element);\n",
              "          const docLink = document.createElement('div');\n",
              "          docLink.innerHTML = docLinkHtml;\n",
              "          element.appendChild(docLink);\n",
              "        }\n",
              "      </script>\n",
              "    </div>\n",
              "  </div>\n",
              "  "
            ]
          },
          "metadata": {},
          "execution_count": 10
        }
      ]
    },
    {
      "cell_type": "code",
      "source": [
        "columns_to_print = ['referrer', 'average_bitrate', 'completed', 'player_name', 'flash_version',\n",
        "                    'os_name', 'os_version', 'browser_name', 'browser_version', 'autoplay', 'category_name']\n",
        "\n",
        "# the columns with missing value\n",
        "df_dropped[columns_to_print]\n"
      ],
      "metadata": {
        "colab": {
          "base_uri": "https://localhost:8080/",
          "height": 522
        },
        "id": "RjXo2mcjsUpP",
        "outputId": "d41310b9-5eef-4950-857a-214fc361d7db"
      },
      "execution_count": null,
      "outputs": [
        {
          "output_type": "execute_result",
          "data": {
            "text/plain": [
              "                                                 referrer  average_bitrate  \\\n",
              "0                                                  search         300000.0   \n",
              "1        https://m.vidio.com/embed/1899913?autoplay=false         300000.0   \n",
              "2       https://m.liputan6.com/regional/read/4177821/v...         300000.0   \n",
              "3       https://m.liputan6.com/news/read/4178059/polis...         300000.0   \n",
              "4       https://today.line.me/id/article/Viral+Siswa+D...         300000.0   \n",
              "...                                                   ...              ...   \n",
              "742577  https://m.liputan6.com/citizen6/read/4164736/j...         300000.0   \n",
              "742578  https://m.liputan6.com/citizen6/read/4164736/j...         300000.0   \n",
              "742579  https://m.liputan6.com/citizen6/read/4164736/j...         300000.0   \n",
              "742580  https://m.liputan6.com/citizen6/read/4164736/j...         300000.0   \n",
              "742581  https://m.liputan6.com/lifestyle/read/3932872/...            300.0   \n",
              "\n",
              "       completed player_name flash_version  os_name os_version   browser_name  \\\n",
              "0          False         NaN           NaN      NaN         28            NaN   \n",
              "1          False     videojs         0,0,0  Android      6.0.1           LINE   \n",
              "2          False     videojs         0,0,0  Android          9       Facebook   \n",
              "3           True     videojs         0,0,0  Android      8.1.0       Facebook   \n",
              "4           True     videojs         0,0,0  Android      8.0.0           LINE   \n",
              "...          ...         ...           ...      ...        ...            ...   \n",
              "742577     False     videojs         0,0,0  Android          9       Facebook   \n",
              "742578     False     videojs         0,0,0  Android      7.1.1       Facebook   \n",
              "742579     False     videojs         0,0,0  Android        7.0       Facebook   \n",
              "742580     False     videojs         0,0,0  Android      6.0.1       Facebook   \n",
              "742581     False     videojs         0,0,0  Android      8.1.0  Chrome Mobile   \n",
              "\n",
              "       browser_version autoplay  category_name  \n",
              "0                  NaN     True         Movies  \n",
              "1               10.1.1    False           News  \n",
              "2              256.0.0    False           News  \n",
              "3              256.0.0    False           News  \n",
              "4               10.0.2    False           News  \n",
              "...                ...      ...            ...  \n",
              "742577         245.0.0    False           News  \n",
              "742578         221.0.0    False           News  \n",
              "742579         237.0.0    False           News  \n",
              "742580         256.0.0    False           News  \n",
              "742581       79.0.3945    False  Entertainment  \n",
              "\n",
              "[742582 rows x 11 columns]"
            ],
            "text/html": [
              "\n",
              "  <div id=\"df-cf20a35a-fb6e-46c6-8565-7c1db03bce6b\">\n",
              "    <div class=\"colab-df-container\">\n",
              "      <div>\n",
              "<style scoped>\n",
              "    .dataframe tbody tr th:only-of-type {\n",
              "        vertical-align: middle;\n",
              "    }\n",
              "\n",
              "    .dataframe tbody tr th {\n",
              "        vertical-align: top;\n",
              "    }\n",
              "\n",
              "    .dataframe thead th {\n",
              "        text-align: right;\n",
              "    }\n",
              "</style>\n",
              "<table border=\"1\" class=\"dataframe\">\n",
              "  <thead>\n",
              "    <tr style=\"text-align: right;\">\n",
              "      <th></th>\n",
              "      <th>referrer</th>\n",
              "      <th>average_bitrate</th>\n",
              "      <th>completed</th>\n",
              "      <th>player_name</th>\n",
              "      <th>flash_version</th>\n",
              "      <th>os_name</th>\n",
              "      <th>os_version</th>\n",
              "      <th>browser_name</th>\n",
              "      <th>browser_version</th>\n",
              "      <th>autoplay</th>\n",
              "      <th>category_name</th>\n",
              "    </tr>\n",
              "  </thead>\n",
              "  <tbody>\n",
              "    <tr>\n",
              "      <th>0</th>\n",
              "      <td>search</td>\n",
              "      <td>300000.0</td>\n",
              "      <td>False</td>\n",
              "      <td>NaN</td>\n",
              "      <td>NaN</td>\n",
              "      <td>NaN</td>\n",
              "      <td>28</td>\n",
              "      <td>NaN</td>\n",
              "      <td>NaN</td>\n",
              "      <td>True</td>\n",
              "      <td>Movies</td>\n",
              "    </tr>\n",
              "    <tr>\n",
              "      <th>1</th>\n",
              "      <td>https://m.vidio.com/embed/1899913?autoplay=false</td>\n",
              "      <td>300000.0</td>\n",
              "      <td>False</td>\n",
              "      <td>videojs</td>\n",
              "      <td>0,0,0</td>\n",
              "      <td>Android</td>\n",
              "      <td>6.0.1</td>\n",
              "      <td>LINE</td>\n",
              "      <td>10.1.1</td>\n",
              "      <td>False</td>\n",
              "      <td>News</td>\n",
              "    </tr>\n",
              "    <tr>\n",
              "      <th>2</th>\n",
              "      <td>https://m.liputan6.com/regional/read/4177821/v...</td>\n",
              "      <td>300000.0</td>\n",
              "      <td>False</td>\n",
              "      <td>videojs</td>\n",
              "      <td>0,0,0</td>\n",
              "      <td>Android</td>\n",
              "      <td>9</td>\n",
              "      <td>Facebook</td>\n",
              "      <td>256.0.0</td>\n",
              "      <td>False</td>\n",
              "      <td>News</td>\n",
              "    </tr>\n",
              "    <tr>\n",
              "      <th>3</th>\n",
              "      <td>https://m.liputan6.com/news/read/4178059/polis...</td>\n",
              "      <td>300000.0</td>\n",
              "      <td>True</td>\n",
              "      <td>videojs</td>\n",
              "      <td>0,0,0</td>\n",
              "      <td>Android</td>\n",
              "      <td>8.1.0</td>\n",
              "      <td>Facebook</td>\n",
              "      <td>256.0.0</td>\n",
              "      <td>False</td>\n",
              "      <td>News</td>\n",
              "    </tr>\n",
              "    <tr>\n",
              "      <th>4</th>\n",
              "      <td>https://today.line.me/id/article/Viral+Siswa+D...</td>\n",
              "      <td>300000.0</td>\n",
              "      <td>True</td>\n",
              "      <td>videojs</td>\n",
              "      <td>0,0,0</td>\n",
              "      <td>Android</td>\n",
              "      <td>8.0.0</td>\n",
              "      <td>LINE</td>\n",
              "      <td>10.0.2</td>\n",
              "      <td>False</td>\n",
              "      <td>News</td>\n",
              "    </tr>\n",
              "    <tr>\n",
              "      <th>...</th>\n",
              "      <td>...</td>\n",
              "      <td>...</td>\n",
              "      <td>...</td>\n",
              "      <td>...</td>\n",
              "      <td>...</td>\n",
              "      <td>...</td>\n",
              "      <td>...</td>\n",
              "      <td>...</td>\n",
              "      <td>...</td>\n",
              "      <td>...</td>\n",
              "      <td>...</td>\n",
              "    </tr>\n",
              "    <tr>\n",
              "      <th>742577</th>\n",
              "      <td>https://m.liputan6.com/citizen6/read/4164736/j...</td>\n",
              "      <td>300000.0</td>\n",
              "      <td>False</td>\n",
              "      <td>videojs</td>\n",
              "      <td>0,0,0</td>\n",
              "      <td>Android</td>\n",
              "      <td>9</td>\n",
              "      <td>Facebook</td>\n",
              "      <td>245.0.0</td>\n",
              "      <td>False</td>\n",
              "      <td>News</td>\n",
              "    </tr>\n",
              "    <tr>\n",
              "      <th>742578</th>\n",
              "      <td>https://m.liputan6.com/citizen6/read/4164736/j...</td>\n",
              "      <td>300000.0</td>\n",
              "      <td>False</td>\n",
              "      <td>videojs</td>\n",
              "      <td>0,0,0</td>\n",
              "      <td>Android</td>\n",
              "      <td>7.1.1</td>\n",
              "      <td>Facebook</td>\n",
              "      <td>221.0.0</td>\n",
              "      <td>False</td>\n",
              "      <td>News</td>\n",
              "    </tr>\n",
              "    <tr>\n",
              "      <th>742579</th>\n",
              "      <td>https://m.liputan6.com/citizen6/read/4164736/j...</td>\n",
              "      <td>300000.0</td>\n",
              "      <td>False</td>\n",
              "      <td>videojs</td>\n",
              "      <td>0,0,0</td>\n",
              "      <td>Android</td>\n",
              "      <td>7.0</td>\n",
              "      <td>Facebook</td>\n",
              "      <td>237.0.0</td>\n",
              "      <td>False</td>\n",
              "      <td>News</td>\n",
              "    </tr>\n",
              "    <tr>\n",
              "      <th>742580</th>\n",
              "      <td>https://m.liputan6.com/citizen6/read/4164736/j...</td>\n",
              "      <td>300000.0</td>\n",
              "      <td>False</td>\n",
              "      <td>videojs</td>\n",
              "      <td>0,0,0</td>\n",
              "      <td>Android</td>\n",
              "      <td>6.0.1</td>\n",
              "      <td>Facebook</td>\n",
              "      <td>256.0.0</td>\n",
              "      <td>False</td>\n",
              "      <td>News</td>\n",
              "    </tr>\n",
              "    <tr>\n",
              "      <th>742581</th>\n",
              "      <td>https://m.liputan6.com/lifestyle/read/3932872/...</td>\n",
              "      <td>300.0</td>\n",
              "      <td>False</td>\n",
              "      <td>videojs</td>\n",
              "      <td>0,0,0</td>\n",
              "      <td>Android</td>\n",
              "      <td>8.1.0</td>\n",
              "      <td>Chrome Mobile</td>\n",
              "      <td>79.0.3945</td>\n",
              "      <td>False</td>\n",
              "      <td>Entertainment</td>\n",
              "    </tr>\n",
              "  </tbody>\n",
              "</table>\n",
              "<p>742582 rows × 11 columns</p>\n",
              "</div>\n",
              "      <button class=\"colab-df-convert\" onclick=\"convertToInteractive('df-cf20a35a-fb6e-46c6-8565-7c1db03bce6b')\"\n",
              "              title=\"Convert this dataframe to an interactive table.\"\n",
              "              style=\"display:none;\">\n",
              "        \n",
              "  <svg xmlns=\"http://www.w3.org/2000/svg\" height=\"24px\"viewBox=\"0 0 24 24\"\n",
              "       width=\"24px\">\n",
              "    <path d=\"M0 0h24v24H0V0z\" fill=\"none\"/>\n",
              "    <path d=\"M18.56 5.44l.94 2.06.94-2.06 2.06-.94-2.06-.94-.94-2.06-.94 2.06-2.06.94zm-11 1L8.5 8.5l.94-2.06 2.06-.94-2.06-.94L8.5 2.5l-.94 2.06-2.06.94zm10 10l.94 2.06.94-2.06 2.06-.94-2.06-.94-.94-2.06-.94 2.06-2.06.94z\"/><path d=\"M17.41 7.96l-1.37-1.37c-.4-.4-.92-.59-1.43-.59-.52 0-1.04.2-1.43.59L10.3 9.45l-7.72 7.72c-.78.78-.78 2.05 0 2.83L4 21.41c.39.39.9.59 1.41.59.51 0 1.02-.2 1.41-.59l7.78-7.78 2.81-2.81c.8-.78.8-2.07 0-2.86zM5.41 20L4 18.59l7.72-7.72 1.47 1.35L5.41 20z\"/>\n",
              "  </svg>\n",
              "      </button>\n",
              "      \n",
              "  <style>\n",
              "    .colab-df-container {\n",
              "      display:flex;\n",
              "      flex-wrap:wrap;\n",
              "      gap: 12px;\n",
              "    }\n",
              "\n",
              "    .colab-df-convert {\n",
              "      background-color: #E8F0FE;\n",
              "      border: none;\n",
              "      border-radius: 50%;\n",
              "      cursor: pointer;\n",
              "      display: none;\n",
              "      fill: #1967D2;\n",
              "      height: 32px;\n",
              "      padding: 0 0 0 0;\n",
              "      width: 32px;\n",
              "    }\n",
              "\n",
              "    .colab-df-convert:hover {\n",
              "      background-color: #E2EBFA;\n",
              "      box-shadow: 0px 1px 2px rgba(60, 64, 67, 0.3), 0px 1px 3px 1px rgba(60, 64, 67, 0.15);\n",
              "      fill: #174EA6;\n",
              "    }\n",
              "\n",
              "    [theme=dark] .colab-df-convert {\n",
              "      background-color: #3B4455;\n",
              "      fill: #D2E3FC;\n",
              "    }\n",
              "\n",
              "    [theme=dark] .colab-df-convert:hover {\n",
              "      background-color: #434B5C;\n",
              "      box-shadow: 0px 1px 3px 1px rgba(0, 0, 0, 0.15);\n",
              "      filter: drop-shadow(0px 1px 2px rgba(0, 0, 0, 0.3));\n",
              "      fill: #FFFFFF;\n",
              "    }\n",
              "  </style>\n",
              "\n",
              "      <script>\n",
              "        const buttonEl =\n",
              "          document.querySelector('#df-cf20a35a-fb6e-46c6-8565-7c1db03bce6b button.colab-df-convert');\n",
              "        buttonEl.style.display =\n",
              "          google.colab.kernel.accessAllowed ? 'block' : 'none';\n",
              "\n",
              "        async function convertToInteractive(key) {\n",
              "          const element = document.querySelector('#df-cf20a35a-fb6e-46c6-8565-7c1db03bce6b');\n",
              "          const dataTable =\n",
              "            await google.colab.kernel.invokeFunction('convertToInteractive',\n",
              "                                                     [key], {});\n",
              "          if (!dataTable) return;\n",
              "\n",
              "          const docLinkHtml = 'Like what you see? Visit the ' +\n",
              "            '<a target=\"_blank\" href=https://colab.research.google.com/notebooks/data_table.ipynb>data table notebook</a>'\n",
              "            + ' to learn more about interactive tables.';\n",
              "          element.innerHTML = '';\n",
              "          dataTable['output_type'] = 'display_data';\n",
              "          await google.colab.output.renderOutput(dataTable, element);\n",
              "          const docLink = document.createElement('div');\n",
              "          docLink.innerHTML = docLinkHtml;\n",
              "          element.appendChild(docLink);\n",
              "        }\n",
              "      </script>\n",
              "    </div>\n",
              "  </div>\n",
              "  "
            ]
          },
          "metadata": {},
          "execution_count": 11
        }
      ]
    },
    {
      "cell_type": "markdown",
      "source": [
        "notes handling missing value:\n",
        "1. refferer,completed,os_name,browser_name,browser_version,autoplay,category_name bikin kategori baru unknown krn nullnya >30%\n",
        "2. average bitrate pake imputation mean krn nullnya cuma 4%\n",
        "4. flash version column dropped krn tidak informatif\n",
        "6. os version drop rows missing value <1%\n",
        "11. yang bool ubah semua ke object"
      ],
      "metadata": {
        "id": "vfx8PdYL2O7N"
      }
    },
    {
      "cell_type": "code",
      "source": [
        "# for the columns below, replace null values with 'unknown' to avoid data loss\n",
        "df_dropped['referrer'] = df_dropped['referrer'].fillna('unknown')\n",
        "df_dropped['completed'] = df_dropped['completed'].fillna('unknown')\n",
        "df_dropped['os_name'] = df_dropped['os_name'].fillna('unknown')\n",
        "df_dropped['browser_name'] = df_dropped['browser_name'].fillna('unknown')\n",
        "df_dropped['browser_version'] = df_dropped['browser_version'].fillna('unknown')\n",
        "df_dropped['autoplay'] = df_dropped['autoplay'].fillna('unknown')\n",
        "df_dropped['category_name'] = df_dropped['category_name'].fillna('unknown')\n",
        "df_dropped['player_name'] = df_dropped['category_name'].fillna('unknown')\n"
      ],
      "metadata": {
        "id": "xm1YPZ7g3htx"
      },
      "execution_count": null,
      "outputs": []
    },
    {
      "cell_type": "code",
      "source": [
        "# drop flash_version column because it is not informative refer to the data dictionary\n",
        "df_dropped = df_dropped.drop('flash_version', axis=1)"
      ],
      "metadata": {
        "id": "-lmoaqdcITkl"
      },
      "execution_count": null,
      "outputs": []
    },
    {
      "cell_type": "code",
      "source": [
        "# drop nan rows from os_version because its <1% from the total data\n",
        "df_dropped = df_dropped.dropna(subset=['os_version'])"
      ],
      "metadata": {
        "id": "1aUwlTvGIjZ6"
      },
      "execution_count": null,
      "outputs": []
    },
    {
      "cell_type": "code",
      "source": [
        "# change all bool data type to string\n",
        "df_dropped.loc[:, 'is_login'] = df_dropped['is_login'].astype(str)\n",
        "df_dropped.loc[:, 'has_ad'] = df_dropped['has_ad'].astype(str)\n",
        "df_dropped.loc[:, 'is_premium'] = df_dropped['is_premium'].astype(str)\n"
      ],
      "metadata": {
        "id": "IlknAlglI5Mc"
      },
      "execution_count": null,
      "outputs": []
    },
    {
      "cell_type": "code",
      "source": [
        "# handle missing value with mean imputation\n",
        "mean_bitrate = df_dropped['average_bitrate'].mean()\n",
        "df_dropped['average_bitrate'] = df_dropped['average_bitrate'].fillna(mean_bitrate)\n"
      ],
      "metadata": {
        "id": "kKtVvXssKRUI"
      },
      "execution_count": null,
      "outputs": []
    },
    {
      "cell_type": "code",
      "source": [
        "# change play_time and end_type data types into datetime data type\n",
        "df_dropped['play_time'] = pd.to_datetime(df_dropped['play_time'])\n",
        "df_dropped['end_time'] = pd.to_datetime(df_dropped['end_time'])"
      ],
      "metadata": {
        "id": "ZI-KZdw_L8TV"
      },
      "execution_count": null,
      "outputs": []
    },
    {
      "cell_type": "code",
      "source": [
        "df_dropped.info()"
      ],
      "metadata": {
        "colab": {
          "base_uri": "https://localhost:8080/"
        },
        "id": "SyH6GZSwKrmr",
        "outputId": "c315f7e1-4ba6-4f95-bbd7-f01b410402b3"
      },
      "execution_count": null,
      "outputs": [
        {
          "output_type": "stream",
          "name": "stdout",
          "text": [
            "<class 'pandas.core.frame.DataFrame'>\n",
            "Int64Index: 739848 entries, 0 to 742581\n",
            "Data columns (total 30 columns):\n",
            " #   Column             Non-Null Count   Dtype              \n",
            "---  ------             --------------   -----              \n",
            " 0   hash_content_id    739848 non-null  object             \n",
            " 1   hash_play_id       739848 non-null  object             \n",
            " 2   hash_visit_id      739848 non-null  object             \n",
            " 3   hash_watcher_id    739848 non-null  object             \n",
            " 4   hash_event_id      739848 non-null  object             \n",
            " 5   is_login           739848 non-null  object             \n",
            " 6   playback_location  739848 non-null  object             \n",
            " 7   platform           739848 non-null  object             \n",
            " 8   play_time          739848 non-null  datetime64[ns, UTC]\n",
            " 9   end_time           739848 non-null  datetime64[ns, UTC]\n",
            " 10  referrer           739848 non-null  object             \n",
            " 11  average_bitrate    739848 non-null  float64            \n",
            " 12  bitrate_range      739848 non-null  object             \n",
            " 13  total_bytes        739848 non-null  int64              \n",
            " 14  buffer_duration    739848 non-null  float64            \n",
            " 15  referrer_group     739848 non-null  object             \n",
            " 16  completed          739848 non-null  object             \n",
            " 17  player_name        739848 non-null  object             \n",
            " 18  has_ad             739848 non-null  object             \n",
            " 19  os_name            739848 non-null  object             \n",
            " 20  os_version         739848 non-null  object             \n",
            " 21  browser_name       739848 non-null  object             \n",
            " 22  browser_version    739848 non-null  object             \n",
            " 23  app_name           739848 non-null  object             \n",
            " 24  autoplay           739848 non-null  object             \n",
            " 25  is_premium         739848 non-null  object             \n",
            " 26  play_duration      739848 non-null  int64              \n",
            " 27  content_type       739848 non-null  object             \n",
            " 28  title              739848 non-null  object             \n",
            " 29  category_name      739848 non-null  object             \n",
            "dtypes: datetime64[ns, UTC](2), float64(2), int64(2), object(24)\n",
            "memory usage: 175.0+ MB\n"
          ]
        }
      ]
    },
    {
      "cell_type": "markdown",
      "source": [
        "## Check the duplicated data"
      ],
      "metadata": {
        "id": "8qnXhavhRPTp"
      }
    },
    {
      "cell_type": "code",
      "source": [
        "df_dropped.duplicated().sum()"
      ],
      "metadata": {
        "colab": {
          "base_uri": "https://localhost:8080/"
        },
        "id": "Z3CHr41iLJee",
        "outputId": "d2cd854c-bd0a-4bae-afdc-7ce0712a1571"
      },
      "execution_count": null,
      "outputs": [
        {
          "output_type": "execute_result",
          "data": {
            "text/plain": [
              "0"
            ]
          },
          "metadata": {},
          "execution_count": 19
        }
      ]
    },
    {
      "cell_type": "markdown",
      "source": [
        "**no duplicated data**"
      ],
      "metadata": {
        "id": "wnMC5fxnRFW9"
      }
    },
    {
      "cell_type": "markdown",
      "source": [
        "#Statistical Summary"
      ],
      "metadata": {
        "id": "K_-9VGKVSeID"
      }
    },
    {
      "cell_type": "code",
      "source": [
        "# select columns with categorical data\n",
        "categoricals = list(df_dropped.select_dtypes(include=['object']).columns)\n",
        "\n",
        "# select columns with numerical data\n",
        "numericals = list(df_dropped.select_dtypes(include=['float', 'int']).columns)\n",
        "\n",
        "categorical_count = len(df_dropped.select_dtypes(include=['object']).columns)\n",
        "numerical_count = len(df_dropped.select_dtypes(include=['float', 'int']).columns)\n",
        "\n",
        "print('Categorical columns:', categorical_count,\"->\", categoricals)\n",
        "print('Numerical columns:', numerical_count, \"->\",numericals)"
      ],
      "metadata": {
        "colab": {
          "base_uri": "https://localhost:8080/"
        },
        "id": "Ww_5CYllRBrG",
        "outputId": "476a50d0-d4e1-4e33-f1eb-fae9da086169"
      },
      "execution_count": null,
      "outputs": [
        {
          "output_type": "stream",
          "name": "stdout",
          "text": [
            "Categorical columns: 24 -> ['hash_content_id', 'hash_play_id', 'hash_visit_id', 'hash_watcher_id', 'hash_event_id', 'is_login', 'playback_location', 'platform', 'referrer', 'bitrate_range', 'referrer_group', 'completed', 'player_name', 'has_ad', 'os_name', 'os_version', 'browser_name', 'browser_version', 'app_name', 'autoplay', 'is_premium', 'content_type', 'title', 'category_name']\n",
            "Numerical columns: 4 -> ['average_bitrate', 'total_bytes', 'buffer_duration', 'play_duration']\n"
          ]
        }
      ]
    },
    {
      "cell_type": "code",
      "source": [
        "df_dropped[numericals].describe().T"
      ],
      "metadata": {
        "colab": {
          "base_uri": "https://localhost:8080/",
          "height": 218
        },
        "id": "NYx09TCPS2LS",
        "outputId": "447fec31-910b-4be6-bdf3-8efbb187b842"
      },
      "execution_count": null,
      "outputs": [
        {
          "output_type": "execute_result",
          "data": {
            "text/plain": [
              "                    count          mean           std      min      25%  \\\n",
              "average_bitrate  739848.0  1.995193e+05  1.380993e+05  144.000  700.000   \n",
              "total_bytes      739848.0  8.015645e+07  5.129611e+08    0.000  750.000   \n",
              "buffer_duration  739848.0  4.083982e+02  7.201759e+04   -4.639    0.024   \n",
              "play_duration    739848.0  4.327303e+02  1.649513e+03    0.000    4.000   \n",
              "\n",
              "                      50%         75%           max  \n",
              "average_bitrate  300000.0    300000.0  3.000000e+05  \n",
              "total_bytes      525000.0  11250000.0  5.065312e+10  \n",
              "buffer_duration       1.0         6.0  6.117224e+07  \n",
              "play_duration        41.0       120.0  1.350750e+05  "
            ],
            "text/html": [
              "\n",
              "  <div id=\"df-3225d29e-4939-4e8a-abdd-2383aec0f5d8\">\n",
              "    <div class=\"colab-df-container\">\n",
              "      <div>\n",
              "<style scoped>\n",
              "    .dataframe tbody tr th:only-of-type {\n",
              "        vertical-align: middle;\n",
              "    }\n",
              "\n",
              "    .dataframe tbody tr th {\n",
              "        vertical-align: top;\n",
              "    }\n",
              "\n",
              "    .dataframe thead th {\n",
              "        text-align: right;\n",
              "    }\n",
              "</style>\n",
              "<table border=\"1\" class=\"dataframe\">\n",
              "  <thead>\n",
              "    <tr style=\"text-align: right;\">\n",
              "      <th></th>\n",
              "      <th>count</th>\n",
              "      <th>mean</th>\n",
              "      <th>std</th>\n",
              "      <th>min</th>\n",
              "      <th>25%</th>\n",
              "      <th>50%</th>\n",
              "      <th>75%</th>\n",
              "      <th>max</th>\n",
              "    </tr>\n",
              "  </thead>\n",
              "  <tbody>\n",
              "    <tr>\n",
              "      <th>average_bitrate</th>\n",
              "      <td>739848.0</td>\n",
              "      <td>1.995193e+05</td>\n",
              "      <td>1.380993e+05</td>\n",
              "      <td>144.000</td>\n",
              "      <td>700.000</td>\n",
              "      <td>300000.0</td>\n",
              "      <td>300000.0</td>\n",
              "      <td>3.000000e+05</td>\n",
              "    </tr>\n",
              "    <tr>\n",
              "      <th>total_bytes</th>\n",
              "      <td>739848.0</td>\n",
              "      <td>8.015645e+07</td>\n",
              "      <td>5.129611e+08</td>\n",
              "      <td>0.000</td>\n",
              "      <td>750.000</td>\n",
              "      <td>525000.0</td>\n",
              "      <td>11250000.0</td>\n",
              "      <td>5.065312e+10</td>\n",
              "    </tr>\n",
              "    <tr>\n",
              "      <th>buffer_duration</th>\n",
              "      <td>739848.0</td>\n",
              "      <td>4.083982e+02</td>\n",
              "      <td>7.201759e+04</td>\n",
              "      <td>-4.639</td>\n",
              "      <td>0.024</td>\n",
              "      <td>1.0</td>\n",
              "      <td>6.0</td>\n",
              "      <td>6.117224e+07</td>\n",
              "    </tr>\n",
              "    <tr>\n",
              "      <th>play_duration</th>\n",
              "      <td>739848.0</td>\n",
              "      <td>4.327303e+02</td>\n",
              "      <td>1.649513e+03</td>\n",
              "      <td>0.000</td>\n",
              "      <td>4.000</td>\n",
              "      <td>41.0</td>\n",
              "      <td>120.0</td>\n",
              "      <td>1.350750e+05</td>\n",
              "    </tr>\n",
              "  </tbody>\n",
              "</table>\n",
              "</div>\n",
              "      <button class=\"colab-df-convert\" onclick=\"convertToInteractive('df-3225d29e-4939-4e8a-abdd-2383aec0f5d8')\"\n",
              "              title=\"Convert this dataframe to an interactive table.\"\n",
              "              style=\"display:none;\">\n",
              "        \n",
              "  <svg xmlns=\"http://www.w3.org/2000/svg\" height=\"24px\"viewBox=\"0 0 24 24\"\n",
              "       width=\"24px\">\n",
              "    <path d=\"M0 0h24v24H0V0z\" fill=\"none\"/>\n",
              "    <path d=\"M18.56 5.44l.94 2.06.94-2.06 2.06-.94-2.06-.94-.94-2.06-.94 2.06-2.06.94zm-11 1L8.5 8.5l.94-2.06 2.06-.94-2.06-.94L8.5 2.5l-.94 2.06-2.06.94zm10 10l.94 2.06.94-2.06 2.06-.94-2.06-.94-.94-2.06-.94 2.06-2.06.94z\"/><path d=\"M17.41 7.96l-1.37-1.37c-.4-.4-.92-.59-1.43-.59-.52 0-1.04.2-1.43.59L10.3 9.45l-7.72 7.72c-.78.78-.78 2.05 0 2.83L4 21.41c.39.39.9.59 1.41.59.51 0 1.02-.2 1.41-.59l7.78-7.78 2.81-2.81c.8-.78.8-2.07 0-2.86zM5.41 20L4 18.59l7.72-7.72 1.47 1.35L5.41 20z\"/>\n",
              "  </svg>\n",
              "      </button>\n",
              "      \n",
              "  <style>\n",
              "    .colab-df-container {\n",
              "      display:flex;\n",
              "      flex-wrap:wrap;\n",
              "      gap: 12px;\n",
              "    }\n",
              "\n",
              "    .colab-df-convert {\n",
              "      background-color: #E8F0FE;\n",
              "      border: none;\n",
              "      border-radius: 50%;\n",
              "      cursor: pointer;\n",
              "      display: none;\n",
              "      fill: #1967D2;\n",
              "      height: 32px;\n",
              "      padding: 0 0 0 0;\n",
              "      width: 32px;\n",
              "    }\n",
              "\n",
              "    .colab-df-convert:hover {\n",
              "      background-color: #E2EBFA;\n",
              "      box-shadow: 0px 1px 2px rgba(60, 64, 67, 0.3), 0px 1px 3px 1px rgba(60, 64, 67, 0.15);\n",
              "      fill: #174EA6;\n",
              "    }\n",
              "\n",
              "    [theme=dark] .colab-df-convert {\n",
              "      background-color: #3B4455;\n",
              "      fill: #D2E3FC;\n",
              "    }\n",
              "\n",
              "    [theme=dark] .colab-df-convert:hover {\n",
              "      background-color: #434B5C;\n",
              "      box-shadow: 0px 1px 3px 1px rgba(0, 0, 0, 0.15);\n",
              "      filter: drop-shadow(0px 1px 2px rgba(0, 0, 0, 0.3));\n",
              "      fill: #FFFFFF;\n",
              "    }\n",
              "  </style>\n",
              "\n",
              "      <script>\n",
              "        const buttonEl =\n",
              "          document.querySelector('#df-3225d29e-4939-4e8a-abdd-2383aec0f5d8 button.colab-df-convert');\n",
              "        buttonEl.style.display =\n",
              "          google.colab.kernel.accessAllowed ? 'block' : 'none';\n",
              "\n",
              "        async function convertToInteractive(key) {\n",
              "          const element = document.querySelector('#df-3225d29e-4939-4e8a-abdd-2383aec0f5d8');\n",
              "          const dataTable =\n",
              "            await google.colab.kernel.invokeFunction('convertToInteractive',\n",
              "                                                     [key], {});\n",
              "          if (!dataTable) return;\n",
              "\n",
              "          const docLinkHtml = 'Like what you see? Visit the ' +\n",
              "            '<a target=\"_blank\" href=https://colab.research.google.com/notebooks/data_table.ipynb>data table notebook</a>'\n",
              "            + ' to learn more about interactive tables.';\n",
              "          element.innerHTML = '';\n",
              "          dataTable['output_type'] = 'display_data';\n",
              "          await google.colab.output.renderOutput(dataTable, element);\n",
              "          const docLink = document.createElement('div');\n",
              "          docLink.innerHTML = docLinkHtml;\n",
              "          element.appendChild(docLink);\n",
              "        }\n",
              "      </script>\n",
              "    </div>\n",
              "  </div>\n",
              "  "
            ]
          },
          "metadata": {},
          "execution_count": 21
        }
      ]
    },
    {
      "cell_type": "markdown",
      "source": [
        "Observation:\n",
        "\n",
        "1. the distribution of the numerical features is likely to be non-uniform or asymmetric.\n",
        "\n",
        "2. The numerical feature has extreme outliers"
      ],
      "metadata": {
        "id": "y_3URj7jAuB1"
      }
    },
    {
      "cell_type": "code",
      "source": [
        "df_dropped[categoricals].describe().T"
      ],
      "metadata": {
        "colab": {
          "base_uri": "https://localhost:8080/",
          "height": 624
        },
        "id": "H8uiiwY_WBL6",
        "outputId": "71508d32-184e-42bc-b4da-1af3bd3b76eb"
      },
      "execution_count": null,
      "outputs": [
        {
          "output_type": "execute_result",
          "data": {
            "text/plain": [
              "                    count  unique  \\\n",
              "hash_content_id    739848   34031   \n",
              "hash_play_id       739848  739795   \n",
              "hash_visit_id      739848  724960   \n",
              "hash_watcher_id    739848  641945   \n",
              "hash_event_id      739848  739809   \n",
              "is_login           739848       2   \n",
              "playback_location  739848       2   \n",
              "platform           739848       7   \n",
              "referrer           739848  106205   \n",
              "bitrate_range      739848       3   \n",
              "referrer_group     739848      17   \n",
              "completed          739848       3   \n",
              "player_name        739848      16   \n",
              "has_ad             739848       2   \n",
              "os_name            739848      11   \n",
              "os_version         739848     269   \n",
              "browser_name       739848      46   \n",
              "browser_version    739848    1019   \n",
              "app_name           739848       1   \n",
              "autoplay           739848       3   \n",
              "is_premium         739848       2   \n",
              "content_type       739848       3   \n",
              "title              739848   32803   \n",
              "category_name      739848      16   \n",
              "\n",
              "                                                                 top    freq  \n",
              "hash_content_id    fc56dbc6d4652b315b86b71c8d688c1ccdea9c5f1fd077...   55851  \n",
              "hash_play_id       7d69e6f9633a106602f3c5cfb24c8f2bd6e12a2ceb7a3d...       2  \n",
              "hash_visit_id      f58079fcaf69a9da2d5e9da98d898916ed8b843c3e801d...      26  \n",
              "hash_watcher_id    e3b0c44298fc1c149afbf4c8996fb92427ae41e4649b93...    4710  \n",
              "hash_event_id      94cc7c71d03a699de21f535249fa504d9bfcdf4dbd22cd...       2  \n",
              "is_login                                                       False  569704  \n",
              "playback_location                                              embed  376232  \n",
              "platform                                                  web-mobile  428195  \n",
              "referrer                                                  live index   64664  \n",
              "bitrate_range                                                200-500  469084  \n",
              "referrer_group                                                others  247292  \n",
              "completed                                                      False  355125  \n",
              "player_name                                                  unknown  269040  \n",
              "has_ad                                                          True  570173  \n",
              "os_name                                                      Android  402118  \n",
              "os_version                                                         9  156611  \n",
              "browser_name                                                 unknown  234493  \n",
              "browser_version                                              unknown  250099  \n",
              "app_name                                                       vidio  739848  \n",
              "autoplay                                                       False  379772  \n",
              "is_premium                                                     False  733517  \n",
              "content_type                                                     vod  467975  \n",
              "title                                                           SCTV   55845  \n",
              "category_name                                                unknown  269040  "
            ],
            "text/html": [
              "\n",
              "  <div id=\"df-73eeec8d-a816-4913-8baf-5436912208ee\">\n",
              "    <div class=\"colab-df-container\">\n",
              "      <div>\n",
              "<style scoped>\n",
              "    .dataframe tbody tr th:only-of-type {\n",
              "        vertical-align: middle;\n",
              "    }\n",
              "\n",
              "    .dataframe tbody tr th {\n",
              "        vertical-align: top;\n",
              "    }\n",
              "\n",
              "    .dataframe thead th {\n",
              "        text-align: right;\n",
              "    }\n",
              "</style>\n",
              "<table border=\"1\" class=\"dataframe\">\n",
              "  <thead>\n",
              "    <tr style=\"text-align: right;\">\n",
              "      <th></th>\n",
              "      <th>count</th>\n",
              "      <th>unique</th>\n",
              "      <th>top</th>\n",
              "      <th>freq</th>\n",
              "    </tr>\n",
              "  </thead>\n",
              "  <tbody>\n",
              "    <tr>\n",
              "      <th>hash_content_id</th>\n",
              "      <td>739848</td>\n",
              "      <td>34031</td>\n",
              "      <td>fc56dbc6d4652b315b86b71c8d688c1ccdea9c5f1fd077...</td>\n",
              "      <td>55851</td>\n",
              "    </tr>\n",
              "    <tr>\n",
              "      <th>hash_play_id</th>\n",
              "      <td>739848</td>\n",
              "      <td>739795</td>\n",
              "      <td>7d69e6f9633a106602f3c5cfb24c8f2bd6e12a2ceb7a3d...</td>\n",
              "      <td>2</td>\n",
              "    </tr>\n",
              "    <tr>\n",
              "      <th>hash_visit_id</th>\n",
              "      <td>739848</td>\n",
              "      <td>724960</td>\n",
              "      <td>f58079fcaf69a9da2d5e9da98d898916ed8b843c3e801d...</td>\n",
              "      <td>26</td>\n",
              "    </tr>\n",
              "    <tr>\n",
              "      <th>hash_watcher_id</th>\n",
              "      <td>739848</td>\n",
              "      <td>641945</td>\n",
              "      <td>e3b0c44298fc1c149afbf4c8996fb92427ae41e4649b93...</td>\n",
              "      <td>4710</td>\n",
              "    </tr>\n",
              "    <tr>\n",
              "      <th>hash_event_id</th>\n",
              "      <td>739848</td>\n",
              "      <td>739809</td>\n",
              "      <td>94cc7c71d03a699de21f535249fa504d9bfcdf4dbd22cd...</td>\n",
              "      <td>2</td>\n",
              "    </tr>\n",
              "    <tr>\n",
              "      <th>is_login</th>\n",
              "      <td>739848</td>\n",
              "      <td>2</td>\n",
              "      <td>False</td>\n",
              "      <td>569704</td>\n",
              "    </tr>\n",
              "    <tr>\n",
              "      <th>playback_location</th>\n",
              "      <td>739848</td>\n",
              "      <td>2</td>\n",
              "      <td>embed</td>\n",
              "      <td>376232</td>\n",
              "    </tr>\n",
              "    <tr>\n",
              "      <th>platform</th>\n",
              "      <td>739848</td>\n",
              "      <td>7</td>\n",
              "      <td>web-mobile</td>\n",
              "      <td>428195</td>\n",
              "    </tr>\n",
              "    <tr>\n",
              "      <th>referrer</th>\n",
              "      <td>739848</td>\n",
              "      <td>106205</td>\n",
              "      <td>live index</td>\n",
              "      <td>64664</td>\n",
              "    </tr>\n",
              "    <tr>\n",
              "      <th>bitrate_range</th>\n",
              "      <td>739848</td>\n",
              "      <td>3</td>\n",
              "      <td>200-500</td>\n",
              "      <td>469084</td>\n",
              "    </tr>\n",
              "    <tr>\n",
              "      <th>referrer_group</th>\n",
              "      <td>739848</td>\n",
              "      <td>17</td>\n",
              "      <td>others</td>\n",
              "      <td>247292</td>\n",
              "    </tr>\n",
              "    <tr>\n",
              "      <th>completed</th>\n",
              "      <td>739848</td>\n",
              "      <td>3</td>\n",
              "      <td>False</td>\n",
              "      <td>355125</td>\n",
              "    </tr>\n",
              "    <tr>\n",
              "      <th>player_name</th>\n",
              "      <td>739848</td>\n",
              "      <td>16</td>\n",
              "      <td>unknown</td>\n",
              "      <td>269040</td>\n",
              "    </tr>\n",
              "    <tr>\n",
              "      <th>has_ad</th>\n",
              "      <td>739848</td>\n",
              "      <td>2</td>\n",
              "      <td>True</td>\n",
              "      <td>570173</td>\n",
              "    </tr>\n",
              "    <tr>\n",
              "      <th>os_name</th>\n",
              "      <td>739848</td>\n",
              "      <td>11</td>\n",
              "      <td>Android</td>\n",
              "      <td>402118</td>\n",
              "    </tr>\n",
              "    <tr>\n",
              "      <th>os_version</th>\n",
              "      <td>739848</td>\n",
              "      <td>269</td>\n",
              "      <td>9</td>\n",
              "      <td>156611</td>\n",
              "    </tr>\n",
              "    <tr>\n",
              "      <th>browser_name</th>\n",
              "      <td>739848</td>\n",
              "      <td>46</td>\n",
              "      <td>unknown</td>\n",
              "      <td>234493</td>\n",
              "    </tr>\n",
              "    <tr>\n",
              "      <th>browser_version</th>\n",
              "      <td>739848</td>\n",
              "      <td>1019</td>\n",
              "      <td>unknown</td>\n",
              "      <td>250099</td>\n",
              "    </tr>\n",
              "    <tr>\n",
              "      <th>app_name</th>\n",
              "      <td>739848</td>\n",
              "      <td>1</td>\n",
              "      <td>vidio</td>\n",
              "      <td>739848</td>\n",
              "    </tr>\n",
              "    <tr>\n",
              "      <th>autoplay</th>\n",
              "      <td>739848</td>\n",
              "      <td>3</td>\n",
              "      <td>False</td>\n",
              "      <td>379772</td>\n",
              "    </tr>\n",
              "    <tr>\n",
              "      <th>is_premium</th>\n",
              "      <td>739848</td>\n",
              "      <td>2</td>\n",
              "      <td>False</td>\n",
              "      <td>733517</td>\n",
              "    </tr>\n",
              "    <tr>\n",
              "      <th>content_type</th>\n",
              "      <td>739848</td>\n",
              "      <td>3</td>\n",
              "      <td>vod</td>\n",
              "      <td>467975</td>\n",
              "    </tr>\n",
              "    <tr>\n",
              "      <th>title</th>\n",
              "      <td>739848</td>\n",
              "      <td>32803</td>\n",
              "      <td>SCTV</td>\n",
              "      <td>55845</td>\n",
              "    </tr>\n",
              "    <tr>\n",
              "      <th>category_name</th>\n",
              "      <td>739848</td>\n",
              "      <td>16</td>\n",
              "      <td>unknown</td>\n",
              "      <td>269040</td>\n",
              "    </tr>\n",
              "  </tbody>\n",
              "</table>\n",
              "</div>\n",
              "      <button class=\"colab-df-convert\" onclick=\"convertToInteractive('df-73eeec8d-a816-4913-8baf-5436912208ee')\"\n",
              "              title=\"Convert this dataframe to an interactive table.\"\n",
              "              style=\"display:none;\">\n",
              "        \n",
              "  <svg xmlns=\"http://www.w3.org/2000/svg\" height=\"24px\"viewBox=\"0 0 24 24\"\n",
              "       width=\"24px\">\n",
              "    <path d=\"M0 0h24v24H0V0z\" fill=\"none\"/>\n",
              "    <path d=\"M18.56 5.44l.94 2.06.94-2.06 2.06-.94-2.06-.94-.94-2.06-.94 2.06-2.06.94zm-11 1L8.5 8.5l.94-2.06 2.06-.94-2.06-.94L8.5 2.5l-.94 2.06-2.06.94zm10 10l.94 2.06.94-2.06 2.06-.94-2.06-.94-.94-2.06-.94 2.06-2.06.94z\"/><path d=\"M17.41 7.96l-1.37-1.37c-.4-.4-.92-.59-1.43-.59-.52 0-1.04.2-1.43.59L10.3 9.45l-7.72 7.72c-.78.78-.78 2.05 0 2.83L4 21.41c.39.39.9.59 1.41.59.51 0 1.02-.2 1.41-.59l7.78-7.78 2.81-2.81c.8-.78.8-2.07 0-2.86zM5.41 20L4 18.59l7.72-7.72 1.47 1.35L5.41 20z\"/>\n",
              "  </svg>\n",
              "      </button>\n",
              "      \n",
              "  <style>\n",
              "    .colab-df-container {\n",
              "      display:flex;\n",
              "      flex-wrap:wrap;\n",
              "      gap: 12px;\n",
              "    }\n",
              "\n",
              "    .colab-df-convert {\n",
              "      background-color: #E8F0FE;\n",
              "      border: none;\n",
              "      border-radius: 50%;\n",
              "      cursor: pointer;\n",
              "      display: none;\n",
              "      fill: #1967D2;\n",
              "      height: 32px;\n",
              "      padding: 0 0 0 0;\n",
              "      width: 32px;\n",
              "    }\n",
              "\n",
              "    .colab-df-convert:hover {\n",
              "      background-color: #E2EBFA;\n",
              "      box-shadow: 0px 1px 2px rgba(60, 64, 67, 0.3), 0px 1px 3px 1px rgba(60, 64, 67, 0.15);\n",
              "      fill: #174EA6;\n",
              "    }\n",
              "\n",
              "    [theme=dark] .colab-df-convert {\n",
              "      background-color: #3B4455;\n",
              "      fill: #D2E3FC;\n",
              "    }\n",
              "\n",
              "    [theme=dark] .colab-df-convert:hover {\n",
              "      background-color: #434B5C;\n",
              "      box-shadow: 0px 1px 3px 1px rgba(0, 0, 0, 0.15);\n",
              "      filter: drop-shadow(0px 1px 2px rgba(0, 0, 0, 0.3));\n",
              "      fill: #FFFFFF;\n",
              "    }\n",
              "  </style>\n",
              "\n",
              "      <script>\n",
              "        const buttonEl =\n",
              "          document.querySelector('#df-73eeec8d-a816-4913-8baf-5436912208ee button.colab-df-convert');\n",
              "        buttonEl.style.display =\n",
              "          google.colab.kernel.accessAllowed ? 'block' : 'none';\n",
              "\n",
              "        async function convertToInteractive(key) {\n",
              "          const element = document.querySelector('#df-73eeec8d-a816-4913-8baf-5436912208ee');\n",
              "          const dataTable =\n",
              "            await google.colab.kernel.invokeFunction('convertToInteractive',\n",
              "                                                     [key], {});\n",
              "          if (!dataTable) return;\n",
              "\n",
              "          const docLinkHtml = 'Like what you see? Visit the ' +\n",
              "            '<a target=\"_blank\" href=https://colab.research.google.com/notebooks/data_table.ipynb>data table notebook</a>'\n",
              "            + ' to learn more about interactive tables.';\n",
              "          element.innerHTML = '';\n",
              "          dataTable['output_type'] = 'display_data';\n",
              "          await google.colab.output.renderOutput(dataTable, element);\n",
              "          const docLink = document.createElement('div');\n",
              "          docLink.innerHTML = docLinkHtml;\n",
              "          element.appendChild(docLink);\n",
              "        }\n",
              "      </script>\n",
              "    </div>\n",
              "  </div>\n",
              "  "
            ]
          },
          "metadata": {},
          "execution_count": 22
        }
      ]
    },
    {
      "cell_type": "markdown",
      "source": [
        "Observation:\n",
        "\n",
        "1. User Login Status: The majority of viewers (non-premium) on Vidio.com are not logged in.\n",
        "2. Preferred Viewing Platform: Viewers predominantly use the web-mobile platform to access Vidio.com.\n",
        "3.VOD Watching Behavior: While VOD content is preferred, many viewers do not complete the content they start watching.\n",
        "4. Premium User Status: The majority of users are not premium subscribers, likely due to the abundance of ad-supported and non-premium content on the platform.\n",
        "5. Android Usage and Autoplay: Vidio.com is primarily accessed through Android devices, and the autoplay feature is generally not enabled.\n",
        "6. Unclassified Categorical Features: Category name, browser name, browser version, and player name lack proper classification or categorization in the dataset.\n",
        "7. Dominance of SCTV Content: A significant proportion of the content available on Vidio.com belongs to SCTV."
      ],
      "metadata": {
        "id": "nOpAGrY1BpXB"
      }
    },
    {
      "cell_type": "markdown",
      "source": [
        "#Completion Rate Analysis"
      ],
      "metadata": {
        "id": "fcYhA0hHcsvX"
      }
    },
    {
      "cell_type": "code",
      "source": [
        "import matplotlib.pyplot as plt\n",
        "import seaborn as sns"
      ],
      "metadata": {
        "id": "e0Zm6OuhOk4I"
      },
      "execution_count": null,
      "outputs": []
    },
    {
      "cell_type": "markdown",
      "source": [
        "##Based on content type"
      ],
      "metadata": {
        "id": "tTETikIZa4KB"
      }
    },
    {
      "cell_type": "code",
      "source": [
        "completion_rate_by_content_type = df_dropped.groupby('content_type')['completed'].value_counts(normalize=True)\n",
        "completion_rate_by_content_type = completion_rate_by_content_type.unstack().rename({'True': 'Completed', 'False': 'Uncompleted', 'unknown': 'Unknown'}, axis=1)\n"
      ],
      "metadata": {
        "id": "-nWCEaRKOqh5"
      },
      "execution_count": null,
      "outputs": []
    },
    {
      "cell_type": "code",
      "source": [
        "completion_rate_by_content_type"
      ],
      "metadata": {
        "colab": {
          "base_uri": "https://localhost:8080/",
          "height": 175
        },
        "id": "aXgjZbVqXsiM",
        "outputId": "61ecc649-d5dc-4e73-f078-99cfb5704ab4"
      },
      "execution_count": null,
      "outputs": [
        {
          "output_type": "execute_result",
          "data": {
            "text/plain": [
              "completed         False      True  Unknown\n",
              "content_type                              \n",
              "catchup        0.879986  0.120014      NaN\n",
              "livestreaming       NaN       NaN      1.0\n",
              "vod            0.753527  0.246473      NaN"
            ],
            "text/html": [
              "\n",
              "  <div id=\"df-b1137608-d316-49a9-8fe0-bffd7f1acaaa\">\n",
              "    <div class=\"colab-df-container\">\n",
              "      <div>\n",
              "<style scoped>\n",
              "    .dataframe tbody tr th:only-of-type {\n",
              "        vertical-align: middle;\n",
              "    }\n",
              "\n",
              "    .dataframe tbody tr th {\n",
              "        vertical-align: top;\n",
              "    }\n",
              "\n",
              "    .dataframe thead th {\n",
              "        text-align: right;\n",
              "    }\n",
              "</style>\n",
              "<table border=\"1\" class=\"dataframe\">\n",
              "  <thead>\n",
              "    <tr style=\"text-align: right;\">\n",
              "      <th>completed</th>\n",
              "      <th>False</th>\n",
              "      <th>True</th>\n",
              "      <th>Unknown</th>\n",
              "    </tr>\n",
              "    <tr>\n",
              "      <th>content_type</th>\n",
              "      <th></th>\n",
              "      <th></th>\n",
              "      <th></th>\n",
              "    </tr>\n",
              "  </thead>\n",
              "  <tbody>\n",
              "    <tr>\n",
              "      <th>catchup</th>\n",
              "      <td>0.879986</td>\n",
              "      <td>0.120014</td>\n",
              "      <td>NaN</td>\n",
              "    </tr>\n",
              "    <tr>\n",
              "      <th>livestreaming</th>\n",
              "      <td>NaN</td>\n",
              "      <td>NaN</td>\n",
              "      <td>1.0</td>\n",
              "    </tr>\n",
              "    <tr>\n",
              "      <th>vod</th>\n",
              "      <td>0.753527</td>\n",
              "      <td>0.246473</td>\n",
              "      <td>NaN</td>\n",
              "    </tr>\n",
              "  </tbody>\n",
              "</table>\n",
              "</div>\n",
              "      <button class=\"colab-df-convert\" onclick=\"convertToInteractive('df-b1137608-d316-49a9-8fe0-bffd7f1acaaa')\"\n",
              "              title=\"Convert this dataframe to an interactive table.\"\n",
              "              style=\"display:none;\">\n",
              "        \n",
              "  <svg xmlns=\"http://www.w3.org/2000/svg\" height=\"24px\"viewBox=\"0 0 24 24\"\n",
              "       width=\"24px\">\n",
              "    <path d=\"M0 0h24v24H0V0z\" fill=\"none\"/>\n",
              "    <path d=\"M18.56 5.44l.94 2.06.94-2.06 2.06-.94-2.06-.94-.94-2.06-.94 2.06-2.06.94zm-11 1L8.5 8.5l.94-2.06 2.06-.94-2.06-.94L8.5 2.5l-.94 2.06-2.06.94zm10 10l.94 2.06.94-2.06 2.06-.94-2.06-.94-.94-2.06-.94 2.06-2.06.94z\"/><path d=\"M17.41 7.96l-1.37-1.37c-.4-.4-.92-.59-1.43-.59-.52 0-1.04.2-1.43.59L10.3 9.45l-7.72 7.72c-.78.78-.78 2.05 0 2.83L4 21.41c.39.39.9.59 1.41.59.51 0 1.02-.2 1.41-.59l7.78-7.78 2.81-2.81c.8-.78.8-2.07 0-2.86zM5.41 20L4 18.59l7.72-7.72 1.47 1.35L5.41 20z\"/>\n",
              "  </svg>\n",
              "      </button>\n",
              "      \n",
              "  <style>\n",
              "    .colab-df-container {\n",
              "      display:flex;\n",
              "      flex-wrap:wrap;\n",
              "      gap: 12px;\n",
              "    }\n",
              "\n",
              "    .colab-df-convert {\n",
              "      background-color: #E8F0FE;\n",
              "      border: none;\n",
              "      border-radius: 50%;\n",
              "      cursor: pointer;\n",
              "      display: none;\n",
              "      fill: #1967D2;\n",
              "      height: 32px;\n",
              "      padding: 0 0 0 0;\n",
              "      width: 32px;\n",
              "    }\n",
              "\n",
              "    .colab-df-convert:hover {\n",
              "      background-color: #E2EBFA;\n",
              "      box-shadow: 0px 1px 2px rgba(60, 64, 67, 0.3), 0px 1px 3px 1px rgba(60, 64, 67, 0.15);\n",
              "      fill: #174EA6;\n",
              "    }\n",
              "\n",
              "    [theme=dark] .colab-df-convert {\n",
              "      background-color: #3B4455;\n",
              "      fill: #D2E3FC;\n",
              "    }\n",
              "\n",
              "    [theme=dark] .colab-df-convert:hover {\n",
              "      background-color: #434B5C;\n",
              "      box-shadow: 0px 1px 3px 1px rgba(0, 0, 0, 0.15);\n",
              "      filter: drop-shadow(0px 1px 2px rgba(0, 0, 0, 0.3));\n",
              "      fill: #FFFFFF;\n",
              "    }\n",
              "  </style>\n",
              "\n",
              "      <script>\n",
              "        const buttonEl =\n",
              "          document.querySelector('#df-b1137608-d316-49a9-8fe0-bffd7f1acaaa button.colab-df-convert');\n",
              "        buttonEl.style.display =\n",
              "          google.colab.kernel.accessAllowed ? 'block' : 'none';\n",
              "\n",
              "        async function convertToInteractive(key) {\n",
              "          const element = document.querySelector('#df-b1137608-d316-49a9-8fe0-bffd7f1acaaa');\n",
              "          const dataTable =\n",
              "            await google.colab.kernel.invokeFunction('convertToInteractive',\n",
              "                                                     [key], {});\n",
              "          if (!dataTable) return;\n",
              "\n",
              "          const docLinkHtml = 'Like what you see? Visit the ' +\n",
              "            '<a target=\"_blank\" href=https://colab.research.google.com/notebooks/data_table.ipynb>data table notebook</a>'\n",
              "            + ' to learn more about interactive tables.';\n",
              "          element.innerHTML = '';\n",
              "          dataTable['output_type'] = 'display_data';\n",
              "          await google.colab.output.renderOutput(dataTable, element);\n",
              "          const docLink = document.createElement('div');\n",
              "          docLink.innerHTML = docLinkHtml;\n",
              "          element.appendChild(docLink);\n",
              "        }\n",
              "      </script>\n",
              "    </div>\n",
              "  </div>\n",
              "  "
            ]
          },
          "metadata": {},
          "execution_count": 141
        }
      ]
    },
    {
      "cell_type": "code",
      "source": [
        "colors = ['red', 'blue', 'grey']\n",
        "\n",
        "sns.set_style('darkgrid')\n",
        "plt.figure(figsize=(15, 8))\n",
        "completion_rate_by_content_type.plot(kind='bar', stacked=True, color=colors)\n",
        "plt.xlabel('Category')\n",
        "plt.ylabel('Completion Rate')\n",
        "plt.title('Completion Rates by Content Type')\n",
        "plt.legend(title='Completion Status',labels=['Uncompleted', 'Completed', 'Unknown'], loc= 'lower left')\n",
        "plt.xticks(rotation=0)\n",
        "plt.show()"
      ],
      "metadata": {
        "colab": {
          "base_uri": "https://localhost:8080/",
          "height": 489
        },
        "id": "BM7LNz4aTxhw",
        "outputId": "025e74d4-4231-4497-9561-3f5368b3610d"
      },
      "execution_count": null,
      "outputs": [
        {
          "output_type": "display_data",
          "data": {
            "text/plain": [
              "<Figure size 1500x800 with 0 Axes>"
            ]
          },
          "metadata": {}
        },
        {
          "output_type": "display_data",
          "data": {
            "text/plain": [
              "<Figure size 640x480 with 1 Axes>"
            ],
            "image/png": "[encoded data removed]"
          },
          "metadata": {}
        }
      ]
    },
    {
      "cell_type": "code",
      "source": [
        "completion_rate_by_content_type.mean()"
      ],
      "metadata": {
        "colab": {
          "base_uri": "https://localhost:8080/"
        },
        "id": "aEwNIi4sQ9KH",
        "outputId": "7c81d0d9-d17e-4c2d-d1a9-0f56d7569b78"
      },
      "execution_count": null,
      "outputs": [
        {
          "output_type": "execute_result",
          "data": {
            "text/plain": [
              "completed\n",
              "Uncompleted    0.816757\n",
              "Completed      0.183243\n",
              "unknown        1.000000\n",
              "dtype: float64"
            ]
          },
          "metadata": {},
          "execution_count": 65
        }
      ]
    },
    {
      "cell_type": "markdown",
      "source": [
        "Observation:\n",
        "1. There is a significant gap in completion rates between catchup and VOD content. Catchup content shows a higher proportion of viewers leaving the content uncompleted compared to VOD content.\n",
        "2. Further investigation or data collection  is required to determine the completion rate for livestreaming content, as it is unknown based on the available information.\n",
        "3. The low completion rates across all content types suggest that viewer engagement and retention could be improved. Strategies to encourage viewers to watch content until completion may be beneficial.\n",
        "4. Understanding the reasons behind low completion rates, such as content quality, duration, user experience, or viewer preferences, can help Vidio.com identify areas for improvement and optimize content offerings.\n",
        "5. It may be valuable to analyze the content types with higher completion rates to identify common characteristics or factors that contribute to higher viewer engagement and completion.\n",
        "\n",
        "\n",
        "Further analysis can be conducted to identify potential factors affecting completion rates, such as content duration, content quality, or viewer preferences.\n"
      ],
      "metadata": {
        "id": "-AIrTe72X0Zr"
      }
    },
    {
      "cell_type": "markdown",
      "source": [
        "##Based on category"
      ],
      "metadata": {
        "id": "sngTDJDCa65A"
      }
    },
    {
      "cell_type": "code",
      "source": [
        "completion_rate_by_category = df_dropped.groupby('category_name')['completed'].value_counts(normalize=True)\n",
        "completion_rate_by_category = completion_rate_by_category.unstack().rename({'True': 'Completed', 'False': 'Uncompleted', 'unknown': 'Unknown'}, axis=1)"
      ],
      "metadata": {
        "id": "yVNKWCr4RiR-"
      },
      "execution_count": null,
      "outputs": []
    },
    {
      "cell_type": "code",
      "source": [
        "colors = ['red', 'blue', 'grey']\n",
        "\n",
        "sns.set_style('darkgrid')\n",
        "plt.figure(figsize=(15, 8))\n",
        "completion_rate_by_category.plot(kind='bar', stacked=True, color=colors)\n",
        "plt.xlabel('Category')\n",
        "plt.ylabel('Completion Rate')\n",
        "plt.title('Completion Rates by Category')\n",
        "plt.legend(title='Completion Status',labels=['Uncompleted', 'Completed', 'Unknown'])\n",
        "plt.show()"
      ],
      "metadata": {
        "colab": {
          "base_uri": "https://localhost:8080/",
          "height": 575
        },
        "id": "7jiqgeiKWjOk",
        "outputId": "a3b672ee-036b-45a8-ba51-30985d75afef"
      },
      "execution_count": null,
      "outputs": [
        {
          "output_type": "display_data",
          "data": {
            "text/plain": [
              "<Figure size 1500x800 with 0 Axes>"
            ]
          },
          "metadata": {}
        },
        {
          "output_type": "display_data",
          "data": {
            "text/plain": [
              "<Figure size 640x480 with 1 Axes>"
            ],
            "image/png": "[encoded data removed]"
          },
          "metadata": {}
        }
      ]
    },
    {
      "cell_type": "code",
      "source": [
        "completion_rate_by_category.mean()"
      ],
      "metadata": {
        "colab": {
          "base_uri": "https://localhost:8080/"
        },
        "id": "SoWHTNr3QqZ9",
        "outputId": "9ad5288f-0f11-4cbb-fe3d-1396b6f43cc8"
      },
      "execution_count": null,
      "outputs": [
        {
          "output_type": "execute_result",
          "data": {
            "text/plain": [
              "completed\n",
              "Uncompleted    0.802309\n",
              "Completed      0.197691\n",
              "unknown        1.000000\n",
              "dtype: float64"
            ]
          },
          "metadata": {},
          "execution_count": 66
        }
      ]
    },
    {
      "cell_type": "markdown",
      "source": [
        "Observation:\n",
        "1. Very Low Completed Rates: Webtoon and Korea categories have completion rates approximately less than 10%.\n",
        "2. Lower Completed Rates: Champions, Entertainment, Lifestyle, Movies, Music, and Vlog have completion rates less than 20%.\n",
        "3. Low Completed Rates: Categories such as Funny, Horror, Kids, Sport, and TV Shows have completion rates less than 30%.\n",
        "4. These low completed rates indicates that a significant majority of viewers in these categories do not complete the content. Possible reasons could include viewers losing interest, not finding the content engaging enough, or other factors specific to these categories.\n",
        "5. Moderate Completed Rates: Education and News categories have completion rates less than 40% which means there is still room for improvement in engaging viewers of educational and news content.\n",
        "6. Further analysis or data collection would be required to determine the completion rates for unknown.\n",
        "\n",
        "\n",
        "The high average uncompleted rate of 80% indicates that, on average, a significant majority of viewers do not finish watching the content."
      ],
      "metadata": {
        "id": "xOkC5AxXYldT"
      }
    },
    {
      "cell_type": "markdown",
      "source": [
        "##Based on ads in content"
      ],
      "metadata": {
        "id": "EyXb7ipxaLKz"
      }
    },
    {
      "cell_type": "code",
      "source": [
        "completion_rate_by_ad = df_dropped.groupby('has_ad')['completed'].value_counts(normalize=True)\n",
        "completion_rate_by_ad = completion_rate_by_ad.unstack().rename({'True': 'Completed', 'False': 'Uncompleted','unknown': 'Unknown'}, axis=1)\n",
        "\n",
        "colors = ['red', 'blue', 'grey']\n",
        "sns.set_style('darkgrid')\n",
        "plt.figure(figsize=(15, 8))\n",
        "completion_rate_by_ad.plot(kind='bar', stacked=True, color=colors)\n",
        "plt.xlabel('Advertisement on Video')\n",
        "plt.ylabel('Completion Rate')\n",
        "plt.title('Completion Rates by Ads')\n",
        "plt.legend(title='Completion Status',labels=['Uncompleted', 'Completed', 'Unknown'])\n",
        "plt.xticks(ticks=[0, 1], labels=['No Ad', 'Has Ad'], rotation=0)\n",
        "plt.show()\n"
      ],
      "metadata": {
        "colab": {
          "base_uri": "https://localhost:8080/",
          "height": 489
        },
        "id": "IF7VKRprTTOD",
        "outputId": "19d7476a-f709-43c0-9efd-e54d52c0016a"
      },
      "execution_count": null,
      "outputs": [
        {
          "output_type": "display_data",
          "data": {
            "text/plain": [
              "<Figure size 1500x800 with 0 Axes>"
            ]
          },
          "metadata": {}
        },
        {
          "output_type": "display_data",
          "data": {
            "text/plain": [
              "<Figure size 640x480 with 1 Axes>"
            ],
            "image/png": "[encoded data removed]"
          },
          "metadata": {}
        }
      ]
    },
    {
      "cell_type": "code",
      "source": [
        "completion_rate_by_ad.mean()"
      ],
      "metadata": {
        "colab": {
          "base_uri": "https://localhost:8080/"
        },
        "id": "1R-aoZOcZ2fX",
        "outputId": "9dde2312-f5cf-4720-a5d0-eab7988145df"
      },
      "execution_count": null,
      "outputs": [
        {
          "output_type": "execute_result",
          "data": {
            "text/plain": [
              "completed\n",
              "False      0.336036\n",
              "True       0.110056\n",
              "Unknown    0.553908\n",
              "dtype: float64"
            ]
          },
          "metadata": {},
          "execution_count": 112
        }
      ]
    },
    {
      "cell_type": "markdown",
      "source": [
        "Observation:\n",
        "1. Content without Ads: Content without any advertisements has a completion rate of approximately less than 10%, indicating that a very small proportion of viewers complete such content. Additionally, around 80% of the completion status for this type of content is unknown, which suggests a lack of available data or tracking for these cases.\n",
        "2. Content with Ads: Content that includes advertisements has a completion rate of 20%, meaning that a relatively higher proportion of viewers complete this type of content compared to ad-free content. However, 60% of viewers do not complete the content, indicating a significant portion of drop-offs. Similar to the content without ads, the completion status for a portion of this content (the rest) is unknown, potentially due to data limitations.\n",
        "3. Average of Unknown completion status is around 55% across all content types, which suggests a need for better data tracking or analysis methodologies. It may be challenging to draw accurate conclusions regarding completion rates based on ads. To gain better insights, it would be necessary to obtain or collect comprehensive data on premium users' viewing patterns and completion rates for content without ads.\n",
        "\n",
        "\n",
        "the high percentage of unknown completion statuses indicates a potential data tracking issue or limited information available."
      ],
      "metadata": {
        "id": "7aVc8x6MZAha"
      }
    },
    {
      "cell_type": "markdown",
      "source": [
        "#Completion Rates Analysis Summary\n",
        "\n",
        "\n",
        "> Across different dimensions, such as content type, category, and the presence of ads, it is evident that completion rates are generally low on Vidio.com. Most of the users do not complete the content they watch, with completion rates varying between content types, categories, and inclusion of ads in content. These findings emphasize the need for further analysis and strategies to enhance user engagement, optimize content offerings, and improve completion rates on Vidio.com.\n",
        "\n",
        "\n"
      ],
      "metadata": {
        "id": "V3iIE0KsZ022"
      }
    },
    {
      "cell_type": "markdown",
      "source": [
        "\n",
        "\n",
        "---\n",
        "\n",
        "\n",
        "\n",
        "---\n",
        "\n"
      ],
      "metadata": {
        "id": "bVJF7PZ6aJjO"
      }
    },
    {
      "cell_type": "markdown",
      "source": [
        "#Engagement and Duration Analysis"
      ],
      "metadata": {
        "id": "UVzxw9PZbDTN"
      }
    },
    {
      "cell_type": "code",
      "source": [
        "df_dropped['play_duration_minutes'] = df_dropped['play_duration'] / 60\n",
        "df_dropped['play_duration_minutes'].mean()"
      ],
      "metadata": {
        "colab": {
          "base_uri": "https://localhost:8080/"
        },
        "id": "DmEpnlgUVSkM",
        "outputId": "74bc47c5-59c5-4fb2-d643-73e2e56d06b7"
      },
      "execution_count": null,
      "outputs": [
        {
          "output_type": "execute_result",
          "data": {
            "text/plain": [
              "7.212171171195524"
            ]
          },
          "metadata": {},
          "execution_count": 143
        }
      ]
    },
    {
      "cell_type": "markdown",
      "source": [
        "Average of Vidio users watch the contents on app is 7 minutes"
      ],
      "metadata": {
        "id": "qGcEKc47ZWQO"
      }
    },
    {
      "cell_type": "markdown",
      "source": [
        "##Based on content type"
      ],
      "metadata": {
        "id": "TzWEB6sDHrPl"
      }
    },
    {
      "cell_type": "code",
      "source": [
        "grouped_data = df_dropped.groupby('content_type').agg({'hash_watcher_id': 'count', 'play_duration_minutes': 'mean'})\n",
        "grouped_data = grouped_data.sort_values('hash_watcher_id',ascending=False)\n"
      ],
      "metadata": {
        "id": "l2zzaQdbpV-h"
      },
      "execution_count": null,
      "outputs": []
    },
    {
      "cell_type": "code",
      "source": [
        "grouped_data"
      ],
      "metadata": {
        "colab": {
          "base_uri": "https://localhost:8080/",
          "height": 175
        },
        "id": "4X48jU0DZsbN",
        "outputId": "767c4172-10df-415d-ae91-b4eec46c8c98"
      },
      "execution_count": null,
      "outputs": [
        {
          "output_type": "execute_result",
          "data": {
            "text/plain": [
              "               hash_watcher_id  play_duration_minutes\n",
              "content_type                                         \n",
              "vod                     467975               4.071977\n",
              "livestreaming           269040              12.428928\n",
              "catchup                   2833              30.514737"
            ],
            "text/html": [
              "\n",
              "  <div id=\"df-ea3fe3a0-cc68-4406-8121-0452acb16ee4\">\n",
              "    <div class=\"colab-df-container\">\n",
              "      <div>\n",
              "<style scoped>\n",
              "    .dataframe tbody tr th:only-of-type {\n",
              "        vertical-align: middle;\n",
              "    }\n",
              "\n",
              "    .dataframe tbody tr th {\n",
              "        vertical-align: top;\n",
              "    }\n",
              "\n",
              "    .dataframe thead th {\n",
              "        text-align: right;\n",
              "    }\n",
              "</style>\n",
              "<table border=\"1\" class=\"dataframe\">\n",
              "  <thead>\n",
              "    <tr style=\"text-align: right;\">\n",
              "      <th></th>\n",
              "      <th>hash_watcher_id</th>\n",
              "      <th>play_duration_minutes</th>\n",
              "    </tr>\n",
              "    <tr>\n",
              "      <th>content_type</th>\n",
              "      <th></th>\n",
              "      <th></th>\n",
              "    </tr>\n",
              "  </thead>\n",
              "  <tbody>\n",
              "    <tr>\n",
              "      <th>vod</th>\n",
              "      <td>467975</td>\n",
              "      <td>4.071977</td>\n",
              "    </tr>\n",
              "    <tr>\n",
              "      <th>livestreaming</th>\n",
              "      <td>269040</td>\n",
              "      <td>12.428928</td>\n",
              "    </tr>\n",
              "    <tr>\n",
              "      <th>catchup</th>\n",
              "      <td>2833</td>\n",
              "      <td>30.514737</td>\n",
              "    </tr>\n",
              "  </tbody>\n",
              "</table>\n",
              "</div>\n",
              "      <button class=\"colab-df-convert\" onclick=\"convertToInteractive('df-ea3fe3a0-cc68-4406-8121-0452acb16ee4')\"\n",
              "              title=\"Convert this dataframe to an interactive table.\"\n",
              "              style=\"display:none;\">\n",
              "        \n",
              "  <svg xmlns=\"http://www.w3.org/2000/svg\" height=\"24px\"viewBox=\"0 0 24 24\"\n",
              "       width=\"24px\">\n",
              "    <path d=\"M0 0h24v24H0V0z\" fill=\"none\"/>\n",
              "    <path d=\"M18.56 5.44l.94 2.06.94-2.06 2.06-.94-2.06-.94-.94-2.06-.94 2.06-2.06.94zm-11 1L8.5 8.5l.94-2.06 2.06-.94-2.06-.94L8.5 2.5l-.94 2.06-2.06.94zm10 10l.94 2.06.94-2.06 2.06-.94-2.06-.94-.94-2.06-.94 2.06-2.06.94z\"/><path d=\"M17.41 7.96l-1.37-1.37c-.4-.4-.92-.59-1.43-.59-.52 0-1.04.2-1.43.59L10.3 9.45l-7.72 7.72c-.78.78-.78 2.05 0 2.83L4 21.41c.39.39.9.59 1.41.59.51 0 1.02-.2 1.41-.59l7.78-7.78 2.81-2.81c.8-.78.8-2.07 0-2.86zM5.41 20L4 18.59l7.72-7.72 1.47 1.35L5.41 20z\"/>\n",
              "  </svg>\n",
              "      </button>\n",
              "      \n",
              "  <style>\n",
              "    .colab-df-container {\n",
              "      display:flex;\n",
              "      flex-wrap:wrap;\n",
              "      gap: 12px;\n",
              "    }\n",
              "\n",
              "    .colab-df-convert {\n",
              "      background-color: #E8F0FE;\n",
              "      border: none;\n",
              "      border-radius: 50%;\n",
              "      cursor: pointer;\n",
              "      display: none;\n",
              "      fill: #1967D2;\n",
              "      height: 32px;\n",
              "      padding: 0 0 0 0;\n",
              "      width: 32px;\n",
              "    }\n",
              "\n",
              "    .colab-df-convert:hover {\n",
              "      background-color: #E2EBFA;\n",
              "      box-shadow: 0px 1px 2px rgba(60, 64, 67, 0.3), 0px 1px 3px 1px rgba(60, 64, 67, 0.15);\n",
              "      fill: #174EA6;\n",
              "    }\n",
              "\n",
              "    [theme=dark] .colab-df-convert {\n",
              "      background-color: #3B4455;\n",
              "      fill: #D2E3FC;\n",
              "    }\n",
              "\n",
              "    [theme=dark] .colab-df-convert:hover {\n",
              "      background-color: #434B5C;\n",
              "      box-shadow: 0px 1px 3px 1px rgba(0, 0, 0, 0.15);\n",
              "      filter: drop-shadow(0px 1px 2px rgba(0, 0, 0, 0.3));\n",
              "      fill: #FFFFFF;\n",
              "    }\n",
              "  </style>\n",
              "\n",
              "      <script>\n",
              "        const buttonEl =\n",
              "          document.querySelector('#df-ea3fe3a0-cc68-4406-8121-0452acb16ee4 button.colab-df-convert');\n",
              "        buttonEl.style.display =\n",
              "          google.colab.kernel.accessAllowed ? 'block' : 'none';\n",
              "\n",
              "        async function convertToInteractive(key) {\n",
              "          const element = document.querySelector('#df-ea3fe3a0-cc68-4406-8121-0452acb16ee4');\n",
              "          const dataTable =\n",
              "            await google.colab.kernel.invokeFunction('convertToInteractive',\n",
              "                                                     [key], {});\n",
              "          if (!dataTable) return;\n",
              "\n",
              "          const docLinkHtml = 'Like what you see? Visit the ' +\n",
              "            '<a target=\"_blank\" href=https://colab.research.google.com/notebooks/data_table.ipynb>data table notebook</a>'\n",
              "            + ' to learn more about interactive tables.';\n",
              "          element.innerHTML = '';\n",
              "          dataTable['output_type'] = 'display_data';\n",
              "          await google.colab.output.renderOutput(dataTable, element);\n",
              "          const docLink = document.createElement('div');\n",
              "          docLink.innerHTML = docLinkHtml;\n",
              "          element.appendChild(docLink);\n",
              "        }\n",
              "      </script>\n",
              "    </div>\n",
              "  </div>\n",
              "  "
            ]
          },
          "metadata": {},
          "execution_count": 144
        }
      ]
    },
    {
      "cell_type": "code",
      "source": [
        "fig, ax1 = plt.subplots(figsize=(8, 6))\n",
        "ax1.bar(grouped_data.index, grouped_data['hash_watcher_id'], color='b')\n",
        "ax1.set_ylabel('User Count', color='b')\n",
        "ax1.tick_params(axis='y', labelcolor='b')\n",
        "\n",
        "ax2 = ax1.twinx()\n",
        "ax2.plot(grouped_data.index, grouped_data['play_duration_minutes'], color='r', marker='o')\n",
        "ax2.set_ylabel('Play Duration', color='r')\n",
        "ax2.tick_params(axis='y', labelcolor='r')\n",
        "\n",
        "plt.title('User Count and Play Duration by Content Type')\n",
        "\n",
        "ax1.legend(['User Count'], loc='upper left')\n",
        "ax2.legend(['Play Duration'], loc='upper right')\n",
        "\n",
        "plt.setp(ax1.xaxis.get_majorticklabels(), rotation=0)\n",
        "plt.tight_layout()\n",
        "plt.show()\n"
      ],
      "metadata": {
        "colab": {
          "base_uri": "https://localhost:8080/",
          "height": 607
        },
        "id": "ltjn58EXDprc",
        "outputId": "630dec48-57c0-40d3-a0fb-1394a0a01a18"
      },
      "execution_count": null,
      "outputs": [
        {
          "output_type": "display_data",
          "data": {
            "text/plain": [
              "<Figure size 800x600 with 2 Axes>"
            ],
            "image/png": "[encoded data removed]"
          },
          "metadata": {}
        }
      ]
    },
    {
      "cell_type": "code",
      "source": [
        "grouped_data.mean()"
      ],
      "metadata": {
        "colab": {
          "base_uri": "https://localhost:8080/"
        },
        "id": "c2IIrNn68qNC",
        "outputId": "d1bba9da-5e17-4774-a55e-8bc7da23622c"
      },
      "execution_count": null,
      "outputs": [
        {
          "output_type": "execute_result",
          "data": {
            "text/plain": [
              "hash_watcher_id          246616.000000\n",
              "play_duration_minutes        15.671881\n",
              "dtype: float64"
            ]
          },
          "metadata": {},
          "execution_count": 113
        }
      ]
    },
    {
      "cell_type": "markdown",
      "source": [
        "Observation:\n",
        "\n",
        "while VOD content attracts a larger audience, it may not necessarily result in longer play durations. Catchup content, although appealing to a smaller audience, tends to have higher engagement with longer play durations. Livestreaming content falls in between, with moderate play durations and user counts.\n",
        "\n",
        "These findings highlight the importance of considering both user count and play duration when analyzing content engagement. It implies that although VOD content may have a broader reach, efforts should be made to increase the play duration and enhance user engagement. Conversely, focusing on enhancing user count and promoting Livestreaming and Catchup content can potentially result in longer play durations and deeper engagement.\n",
        "\n"
      ],
      "metadata": {
        "id": "VLANKuFfaUUm"
      }
    },
    {
      "cell_type": "markdown",
      "source": [
        "##Based on category"
      ],
      "metadata": {
        "id": "YYvP-WLmHuHk"
      }
    },
    {
      "cell_type": "code",
      "source": [
        "grouped_data2 = df_dropped.groupby('category_name').agg({'hash_watcher_id': 'count', 'play_duration_minutes': 'mean'})\n",
        "grouped_data2 = grouped_data2.sort_values('hash_watcher_id',ascending=False)\n"
      ],
      "metadata": {
        "id": "gcN6ztxY3fpw"
      },
      "execution_count": null,
      "outputs": []
    },
    {
      "cell_type": "code",
      "source": [
        "grouped_data2"
      ],
      "metadata": {
        "colab": {
          "base_uri": "https://localhost:8080/",
          "height": 582
        },
        "id": "6_snZrXrBgYT",
        "outputId": "3297f94c-d77f-4a0c-d6c2-6c24c83d0b55"
      },
      "execution_count": null,
      "outputs": [
        {
          "output_type": "execute_result",
          "data": {
            "text/plain": [
              "               hash_watcher_id  play_duration_minutes\n",
              "category_name                                        \n",
              "unknown                 269040              12.428928\n",
              "Entertainment           152679               0.953948\n",
              "News                    146847               0.577793\n",
              "Sports                   53818               0.578894\n",
              "Movies                   39829              15.987644\n",
              "TV Show                  30155              26.759314\n",
              "Music                    16966               9.094888\n",
              "Vlog                     11935               9.065769\n",
              "Lifestyle                 9491               0.554636\n",
              "Funny                     3316               0.749352\n",
              "Education                 2661               0.768871\n",
              "Kids                      1146               5.404683\n",
              "Korea                     1081               5.020675\n",
              "Champions                  482               1.588693\n",
              "Horror                     217               2.146237\n",
              "Webtoon                    185               8.277838"
            ],
            "text/html": [
              "\n",
              "  <div id=\"df-b4d959d4-b0a4-4ab5-99d4-ac02876a06df\">\n",
              "    <div class=\"colab-df-container\">\n",
              "      <div>\n",
              "<style scoped>\n",
              "    .dataframe tbody tr th:only-of-type {\n",
              "        vertical-align: middle;\n",
              "    }\n",
              "\n",
              "    .dataframe tbody tr th {\n",
              "        vertical-align: top;\n",
              "    }\n",
              "\n",
              "    .dataframe thead th {\n",
              "        text-align: right;\n",
              "    }\n",
              "</style>\n",
              "<table border=\"1\" class=\"dataframe\">\n",
              "  <thead>\n",
              "    <tr style=\"text-align: right;\">\n",
              "      <th></th>\n",
              "      <th>hash_watcher_id</th>\n",
              "      <th>play_duration_minutes</th>\n",
              "    </tr>\n",
              "    <tr>\n",
              "      <th>category_name</th>\n",
              "      <th></th>\n",
              "      <th></th>\n",
              "    </tr>\n",
              "  </thead>\n",
              "  <tbody>\n",
              "    <tr>\n",
              "      <th>unknown</th>\n",
              "      <td>269040</td>\n",
              "      <td>12.428928</td>\n",
              "    </tr>\n",
              "    <tr>\n",
              "      <th>Entertainment</th>\n",
              "      <td>152679</td>\n",
              "      <td>0.953948</td>\n",
              "    </tr>\n",
              "    <tr>\n",
              "      <th>News</th>\n",
              "      <td>146847</td>\n",
              "      <td>0.577793</td>\n",
              "    </tr>\n",
              "    <tr>\n",
              "      <th>Sports</th>\n",
              "      <td>53818</td>\n",
              "      <td>0.578894</td>\n",
              "    </tr>\n",
              "    <tr>\n",
              "      <th>Movies</th>\n",
              "      <td>39829</td>\n",
              "      <td>15.987644</td>\n",
              "    </tr>\n",
              "    <tr>\n",
              "      <th>TV Show</th>\n",
              "      <td>30155</td>\n",
              "      <td>26.759314</td>\n",
              "    </tr>\n",
              "    <tr>\n",
              "      <th>Music</th>\n",
              "      <td>16966</td>\n",
              "      <td>9.094888</td>\n",
              "    </tr>\n",
              "    <tr>\n",
              "      <th>Vlog</th>\n",
              "      <td>11935</td>\n",
              "      <td>9.065769</td>\n",
              "    </tr>\n",
              "    <tr>\n",
              "      <th>Lifestyle</th>\n",
              "      <td>9491</td>\n",
              "      <td>0.554636</td>\n",
              "    </tr>\n",
              "    <tr>\n",
              "      <th>Funny</th>\n",
              "      <td>3316</td>\n",
              "      <td>0.749352</td>\n",
              "    </tr>\n",
              "    <tr>\n",
              "      <th>Education</th>\n",
              "      <td>2661</td>\n",
              "      <td>0.768871</td>\n",
              "    </tr>\n",
              "    <tr>\n",
              "      <th>Kids</th>\n",
              "      <td>1146</td>\n",
              "      <td>5.404683</td>\n",
              "    </tr>\n",
              "    <tr>\n",
              "      <th>Korea</th>\n",
              "      <td>1081</td>\n",
              "      <td>5.020675</td>\n",
              "    </tr>\n",
              "    <tr>\n",
              "      <th>Champions</th>\n",
              "      <td>482</td>\n",
              "      <td>1.588693</td>\n",
              "    </tr>\n",
              "    <tr>\n",
              "      <th>Horror</th>\n",
              "      <td>217</td>\n",
              "      <td>2.146237</td>\n",
              "    </tr>\n",
              "    <tr>\n",
              "      <th>Webtoon</th>\n",
              "      <td>185</td>\n",
              "      <td>8.277838</td>\n",
              "    </tr>\n",
              "  </tbody>\n",
              "</table>\n",
              "</div>\n",
              "      <button class=\"colab-df-convert\" onclick=\"convertToInteractive('df-b4d959d4-b0a4-4ab5-99d4-ac02876a06df')\"\n",
              "              title=\"Convert this dataframe to an interactive table.\"\n",
              "              style=\"display:none;\">\n",
              "        \n",
              "  <svg xmlns=\"http://www.w3.org/2000/svg\" height=\"24px\"viewBox=\"0 0 24 24\"\n",
              "       width=\"24px\">\n",
              "    <path d=\"M0 0h24v24H0V0z\" fill=\"none\"/>\n",
              "    <path d=\"M18.56 5.44l.94 2.06.94-2.06 2.06-.94-2.06-.94-.94-2.06-.94 2.06-2.06.94zm-11 1L8.5 8.5l.94-2.06 2.06-.94-2.06-.94L8.5 2.5l-.94 2.06-2.06.94zm10 10l.94 2.06.94-2.06 2.06-.94-2.06-.94-.94-2.06-.94 2.06-2.06.94z\"/><path d=\"M17.41 7.96l-1.37-1.37c-.4-.4-.92-.59-1.43-.59-.52 0-1.04.2-1.43.59L10.3 9.45l-7.72 7.72c-.78.78-.78 2.05 0 2.83L4 21.41c.39.39.9.59 1.41.59.51 0 1.02-.2 1.41-.59l7.78-7.78 2.81-2.81c.8-.78.8-2.07 0-2.86zM5.41 20L4 18.59l7.72-7.72 1.47 1.35L5.41 20z\"/>\n",
              "  </svg>\n",
              "      </button>\n",
              "      \n",
              "  <style>\n",
              "    .colab-df-container {\n",
              "      display:flex;\n",
              "      flex-wrap:wrap;\n",
              "      gap: 12px;\n",
              "    }\n",
              "\n",
              "    .colab-df-convert {\n",
              "      background-color: #E8F0FE;\n",
              "      border: none;\n",
              "      border-radius: 50%;\n",
              "      cursor: pointer;\n",
              "      display: none;\n",
              "      fill: #1967D2;\n",
              "      height: 32px;\n",
              "      padding: 0 0 0 0;\n",
              "      width: 32px;\n",
              "    }\n",
              "\n",
              "    .colab-df-convert:hover {\n",
              "      background-color: #E2EBFA;\n",
              "      box-shadow: 0px 1px 2px rgba(60, 64, 67, 0.3), 0px 1px 3px 1px rgba(60, 64, 67, 0.15);\n",
              "      fill: #174EA6;\n",
              "    }\n",
              "\n",
              "    [theme=dark] .colab-df-convert {\n",
              "      background-color: #3B4455;\n",
              "      fill: #D2E3FC;\n",
              "    }\n",
              "\n",
              "    [theme=dark] .colab-df-convert:hover {\n",
              "      background-color: #434B5C;\n",
              "      box-shadow: 0px 1px 3px 1px rgba(0, 0, 0, 0.15);\n",
              "      filter: drop-shadow(0px 1px 2px rgba(0, 0, 0, 0.3));\n",
              "      fill: #FFFFFF;\n",
              "    }\n",
              "  </style>\n",
              "\n",
              "      <script>\n",
              "        const buttonEl =\n",
              "          document.querySelector('#df-b4d959d4-b0a4-4ab5-99d4-ac02876a06df button.colab-df-convert');\n",
              "        buttonEl.style.display =\n",
              "          google.colab.kernel.accessAllowed ? 'block' : 'none';\n",
              "\n",
              "        async function convertToInteractive(key) {\n",
              "          const element = document.querySelector('#df-b4d959d4-b0a4-4ab5-99d4-ac02876a06df');\n",
              "          const dataTable =\n",
              "            await google.colab.kernel.invokeFunction('convertToInteractive',\n",
              "                                                     [key], {});\n",
              "          if (!dataTable) return;\n",
              "\n",
              "          const docLinkHtml = 'Like what you see? Visit the ' +\n",
              "            '<a target=\"_blank\" href=https://colab.research.google.com/notebooks/data_table.ipynb>data table notebook</a>'\n",
              "            + ' to learn more about interactive tables.';\n",
              "          element.innerHTML = '';\n",
              "          dataTable['output_type'] = 'display_data';\n",
              "          await google.colab.output.renderOutput(dataTable, element);\n",
              "          const docLink = document.createElement('div');\n",
              "          docLink.innerHTML = docLinkHtml;\n",
              "          element.appendChild(docLink);\n",
              "        }\n",
              "      </script>\n",
              "    </div>\n",
              "  </div>\n",
              "  "
            ]
          },
          "metadata": {},
          "execution_count": 121
        }
      ]
    },
    {
      "cell_type": "code",
      "source": [
        "fig, ax1 = plt.subplots(figsize=(10, 6))\n",
        "\n",
        "ax1.bar(grouped_data2.index, grouped_data2['hash_watcher_id'], color='b')\n",
        "ax1.set_ylabel('User Count', color='b')\n",
        "ax1.tick_params(axis='y', labelcolor='b')\n",
        "\n",
        "ax2 = ax1.twinx()\n",
        "ax2.plot(grouped_data2.index, grouped_data2['play_duration_minutes'], color='r', marker='o')\n",
        "ax2.set_ylabel('Play Duration', color='r')\n",
        "ax2.tick_params(axis='y', labelcolor='r')\n",
        "\n",
        "plt.title('User Count and Play Duration by Category')\n",
        "\n",
        "ax1.legend(['User Count'], loc='upper left')\n",
        "ax2.legend(['Play Duration'], loc='upper right')\n",
        "\n",
        "plt.setp(ax1.xaxis.get_majorticklabels(), rotation=90)\n",
        "plt.tight_layout()\n",
        "\n",
        "plt.show()\n"
      ],
      "metadata": {
        "colab": {
          "base_uri": "https://localhost:8080/",
          "height": 515
        },
        "id": "eh7ZQNfD4UYf",
        "outputId": "395269ed-e0a8-437a-d09b-76fc9d5988b5"
      },
      "execution_count": null,
      "outputs": [
        {
          "output_type": "display_data",
          "data": {
            "text/plain": [
              "<Figure size 1000x600 with 2 Axes>"
            ],
            "image/png": "[encoded data removed]"
          },
          "metadata": {}
        }
      ]
    },
    {
      "cell_type": "code",
      "source": [
        "grouped_data2.mean()"
      ],
      "metadata": {
        "colab": {
          "base_uri": "https://localhost:8080/"
        },
        "id": "0jlnIlwP86jp",
        "outputId": "90d73e58-51be-4b82-878e-0964cc3122bc"
      },
      "execution_count": null,
      "outputs": [
        {
          "output_type": "execute_result",
          "data": {
            "text/plain": [
              "hash_watcher_id          46240.500000\n",
              "play_duration_minutes        6.247385\n",
              "dtype: float64"
            ]
          },
          "metadata": {},
          "execution_count": 114
        }
      ]
    },
    {
      "cell_type": "markdown",
      "source": [
        "Observation:\n",
        "1. Unknown Category: The unknown category has the highest user count, indicating a significant number of viewers. However, the average play duration for this category is relatively low at approximately 12.4 minutes. This suggests a need for further investigation to categorize the content and factors that contribute to user engagement.\n",
        "2. Movies and TV Shows: Despite having lower user counts compared to the unknown category, Movies and TV Shows demonstrate higher play durations. This indicates that viewers in these categories tend to engage with the content for longer periods, with play durations averaging around 16 minutes and 27 minutes, respectively. This highlights the potential appeal and engagement of movies and TV shows among the viewers.\n",
        "3. Music, Vlog, Kids, and Korea: These categories have moderate user counts, and their average play durations range from 5 to 9 minutes. While the play durations are not as high as movies or TV shows, they still demonstrate a reasonable level of engagement from viewers.\n",
        "4. Entertainment, News, Sports, Lifestyle, Funny, Education, Champions, Horror, Webtoon: These categories have relatively low user counts and play durations, averaging around 1 to 6 minutes. This indicates that viewers in these categories may have shorter engagement periods or lower overall interest in the content.\n",
        "\n",
        "categories with lower user counts generally exhibit shorter play durations, indicating a need to explore strategies to increase engagement and retention for those categories.The average play duration of 6 minutes across all categories provides a benchmark to evaluate the engagement levels\n",
        "\n",
        "\n"
      ],
      "metadata": {
        "id": "WZbBnCOZavdT"
      }
    },
    {
      "cell_type": "markdown",
      "source": [
        "##Based on user subscription"
      ],
      "metadata": {
        "id": "5ylnB1K7IOO7"
      }
    },
    {
      "cell_type": "code",
      "source": [
        "grouped_data3 = df_dropped.groupby('has_ad').agg({'hash_watcher_id': 'count', 'play_duration_minutes': 'mean'})\n",
        "grouped_data3.index = ['Non-Premium User' if val == 'True' else 'Premium User' for val in grouped_data3.index]\n",
        "grouped_data3 = grouped_data3.sort_values('hash_watcher_id', ascending=False)\n"
      ],
      "metadata": {
        "id": "NduI6c8dB8yL"
      },
      "execution_count": null,
      "outputs": []
    },
    {
      "cell_type": "code",
      "source": [
        "grouped_data3"
      ],
      "metadata": {
        "colab": {
          "base_uri": "https://localhost:8080/",
          "height": 112
        },
        "id": "VLowIONpD0Ml",
        "outputId": "918e7864-68f8-4483-90f3-6d61b0008aa2"
      },
      "execution_count": null,
      "outputs": [
        {
          "output_type": "execute_result",
          "data": {
            "text/plain": [
              "                  hash_watcher_id  play_duration_minutes\n",
              "Non-Premium User           570173               5.294704\n",
              "Premium User               169675              13.655596"
            ],
            "text/html": [
              "\n",
              "  <div id=\"df-4457fd98-aa48-4f12-9c53-c36e084af9ff\">\n",
              "    <div class=\"colab-df-container\">\n",
              "      <div>\n",
              "<style scoped>\n",
              "    .dataframe tbody tr th:only-of-type {\n",
              "        vertical-align: middle;\n",
              "    }\n",
              "\n",
              "    .dataframe tbody tr th {\n",
              "        vertical-align: top;\n",
              "    }\n",
              "\n",
              "    .dataframe thead th {\n",
              "        text-align: right;\n",
              "    }\n",
              "</style>\n",
              "<table border=\"1\" class=\"dataframe\">\n",
              "  <thead>\n",
              "    <tr style=\"text-align: right;\">\n",
              "      <th></th>\n",
              "      <th>hash_watcher_id</th>\n",
              "      <th>play_duration_minutes</th>\n",
              "    </tr>\n",
              "  </thead>\n",
              "  <tbody>\n",
              "    <tr>\n",
              "      <th>Non-Premium User</th>\n",
              "      <td>570173</td>\n",
              "      <td>5.294704</td>\n",
              "    </tr>\n",
              "    <tr>\n",
              "      <th>Premium User</th>\n",
              "      <td>169675</td>\n",
              "      <td>13.655596</td>\n",
              "    </tr>\n",
              "  </tbody>\n",
              "</table>\n",
              "</div>\n",
              "      <button class=\"colab-df-convert\" onclick=\"convertToInteractive('df-4457fd98-aa48-4f12-9c53-c36e084af9ff')\"\n",
              "              title=\"Convert this dataframe to an interactive table.\"\n",
              "              style=\"display:none;\">\n",
              "        \n",
              "  <svg xmlns=\"http://www.w3.org/2000/svg\" height=\"24px\"viewBox=\"0 0 24 24\"\n",
              "       width=\"24px\">\n",
              "    <path d=\"M0 0h24v24H0V0z\" fill=\"none\"/>\n",
              "    <path d=\"M18.56 5.44l.94 2.06.94-2.06 2.06-.94-2.06-.94-.94-2.06-.94 2.06-2.06.94zm-11 1L8.5 8.5l.94-2.06 2.06-.94-2.06-.94L8.5 2.5l-.94 2.06-2.06.94zm10 10l.94 2.06.94-2.06 2.06-.94-2.06-.94-.94-2.06-.94 2.06-2.06.94z\"/><path d=\"M17.41 7.96l-1.37-1.37c-.4-.4-.92-.59-1.43-.59-.52 0-1.04.2-1.43.59L10.3 9.45l-7.72 7.72c-.78.78-.78 2.05 0 2.83L4 21.41c.39.39.9.59 1.41.59.51 0 1.02-.2 1.41-.59l7.78-7.78 2.81-2.81c.8-.78.8-2.07 0-2.86zM5.41 20L4 18.59l7.72-7.72 1.47 1.35L5.41 20z\"/>\n",
              "  </svg>\n",
              "      </button>\n",
              "      \n",
              "  <style>\n",
              "    .colab-df-container {\n",
              "      display:flex;\n",
              "      flex-wrap:wrap;\n",
              "      gap: 12px;\n",
              "    }\n",
              "\n",
              "    .colab-df-convert {\n",
              "      background-color: #E8F0FE;\n",
              "      border: none;\n",
              "      border-radius: 50%;\n",
              "      cursor: pointer;\n",
              "      display: none;\n",
              "      fill: #1967D2;\n",
              "      height: 32px;\n",
              "      padding: 0 0 0 0;\n",
              "      width: 32px;\n",
              "    }\n",
              "\n",
              "    .colab-df-convert:hover {\n",
              "      background-color: #E2EBFA;\n",
              "      box-shadow: 0px 1px 2px rgba(60, 64, 67, 0.3), 0px 1px 3px 1px rgba(60, 64, 67, 0.15);\n",
              "      fill: #174EA6;\n",
              "    }\n",
              "\n",
              "    [theme=dark] .colab-df-convert {\n",
              "      background-color: #3B4455;\n",
              "      fill: #D2E3FC;\n",
              "    }\n",
              "\n",
              "    [theme=dark] .colab-df-convert:hover {\n",
              "      background-color: #434B5C;\n",
              "      box-shadow: 0px 1px 3px 1px rgba(0, 0, 0, 0.15);\n",
              "      filter: drop-shadow(0px 1px 2px rgba(0, 0, 0, 0.3));\n",
              "      fill: #FFFFFF;\n",
              "    }\n",
              "  </style>\n",
              "\n",
              "      <script>\n",
              "        const buttonEl =\n",
              "          document.querySelector('#df-4457fd98-aa48-4f12-9c53-c36e084af9ff button.colab-df-convert');\n",
              "        buttonEl.style.display =\n",
              "          google.colab.kernel.accessAllowed ? 'block' : 'none';\n",
              "\n",
              "        async function convertToInteractive(key) {\n",
              "          const element = document.querySelector('#df-4457fd98-aa48-4f12-9c53-c36e084af9ff');\n",
              "          const dataTable =\n",
              "            await google.colab.kernel.invokeFunction('convertToInteractive',\n",
              "                                                     [key], {});\n",
              "          if (!dataTable) return;\n",
              "\n",
              "          const docLinkHtml = 'Like what you see? Visit the ' +\n",
              "            '<a target=\"_blank\" href=https://colab.research.google.com/notebooks/data_table.ipynb>data table notebook</a>'\n",
              "            + ' to learn more about interactive tables.';\n",
              "          element.innerHTML = '';\n",
              "          dataTable['output_type'] = 'display_data';\n",
              "          await google.colab.output.renderOutput(dataTable, element);\n",
              "          const docLink = document.createElement('div');\n",
              "          docLink.innerHTML = docLinkHtml;\n",
              "          element.appendChild(docLink);\n",
              "        }\n",
              "      </script>\n",
              "    </div>\n",
              "  </div>\n",
              "  "
            ]
          },
          "metadata": {},
          "execution_count": 129
        }
      ]
    },
    {
      "cell_type": "code",
      "source": [
        "fig, ax1 = plt.subplots(figsize=(8, 6))\n",
        "\n",
        "ax1.bar(range(len(grouped_data3.index)), grouped_data3['hash_watcher_id'], color='b')\n",
        "ax1.set_ylabel('User Count', color='b')\n",
        "ax1.tick_params(axis='y', labelcolor='b')\n",
        "ax1.set_xticks(range(len(grouped_data3.index)))\n",
        "ax1.set_xticklabels(grouped_data3.index)\n",
        "\n",
        "ax2 = ax1.twinx()\n",
        "ax2.plot(range(len(grouped_data3.index)), grouped_data3['play_duration_minutes'], color='r', marker='o')\n",
        "ax2.set_ylabel('Play Duration', color='r')\n",
        "ax2.tick_params(axis='y', labelcolor='r')\n",
        "\n",
        "plt.title('User Count and Play Duration by User Subscription')\n",
        "\n",
        "ax1.legend(['User Count'], loc='upper left')\n",
        "ax2.legend(['Play Duration'], loc='upper right')\n",
        "\n",
        "plt.xticks(rotation=90)\n",
        "plt.tight_layout()\n",
        "plt.show()\n"
      ],
      "metadata": {
        "colab": {
          "base_uri": "https://localhost:8080/",
          "height": 607
        },
        "id": "UjDmiNyBJ-qx",
        "outputId": "e847f79e-e9b3-4522-9fed-fb5b2a95b878"
      },
      "execution_count": null,
      "outputs": [
        {
          "output_type": "display_data",
          "data": {
            "text/plain": [
              "<Figure size 800x600 with 2 Axes>"
            ],
            "image/png": "[encoded data removed]"
          },
          "metadata": {}
        }
      ]
    },
    {
      "cell_type": "code",
      "source": [
        "grouped_data3.mean()"
      ],
      "metadata": {
        "colab": {
          "base_uri": "https://localhost:8080/"
        },
        "id": "xohskk9c9Cj4",
        "outputId": "bb57ecf5-9ba3-4dbf-b554-2fd284624c1d"
      },
      "execution_count": null,
      "outputs": [
        {
          "output_type": "execute_result",
          "data": {
            "text/plain": [
              "hash_watcher_id          369924.00000\n",
              "play_duration_minutes         9.47515\n",
              "dtype: float64"
            ]
          },
          "metadata": {},
          "execution_count": 115
        }
      ]
    },
    {
      "cell_type": "markdown",
      "source": [
        "Observation:\n",
        "1. Non-Premium users has a larger audience base. However, the average play duration for Non-Premium users is relatively lower. This suggests that Non-Premium users may have shorter engagement periods or may be less likely to watch content for extended durations.\n",
        "2. Premium users have a lower user count compared to Non-Premium users, indicating a smaller but potentially more dedicated user base. The average play duration for Premium users is significantly higher. This indicates that Premium users tend to engage with the content for longer durations.  Premium users, who likely have access to additional features or benefits, exhibit longer play durations, indicating a higher level of engagement and potentially higher satisfaction with the content.\n",
        "\n",
        "\n",
        "The average play duration of 9 minutes across all user subscriptions provides a benchmark to evaluate engagement levels."
      ],
      "metadata": {
        "id": "f3Wcsa8dHxRr"
      }
    },
    {
      "cell_type": "markdown",
      "source": [
        "##Based on platform"
      ],
      "metadata": {
        "id": "-vGHjvDFSNAu"
      }
    },
    {
      "cell_type": "code",
      "source": [
        "grouped_data4 = df_dropped.groupby('platform').agg({'hash_watcher_id': 'count', 'play_duration_minutes': 'mean'})\n",
        "grouped_data4 = grouped_data4.sort_values('hash_watcher_id',ascending=False)\n"
      ],
      "metadata": {
        "id": "5Re3JslRSMle"
      },
      "execution_count": null,
      "outputs": []
    },
    {
      "cell_type": "code",
      "source": [
        "grouped_data4"
      ],
      "metadata": {
        "colab": {
          "base_uri": "https://localhost:8080/",
          "height": 300
        },
        "id": "YKRkEtFeScXT",
        "outputId": "39893c7a-14f7-4b22-93f3-ba650201b357"
      },
      "execution_count": null,
      "outputs": [
        {
          "output_type": "execute_result",
          "data": {
            "text/plain": [
              "             hash_watcher_id  play_duration_minutes\n",
              "platform                                           \n",
              "web-mobile            428195               2.087057\n",
              "app-android           180635              14.764947\n",
              "web-desktop            70109              10.388549\n",
              "tv-android             41379              19.622120\n",
              "app-ios                12479               8.796637\n",
              "tv-tizen                7046              17.756190\n",
              "tv-webos                   5               3.750000"
            ],
            "text/html": [
              "\n",
              "  <div id=\"df-fa1ed1a8-019a-424d-b6b7-26e597d0f3b9\">\n",
              "    <div class=\"colab-df-container\">\n",
              "      <div>\n",
              "<style scoped>\n",
              "    .dataframe tbody tr th:only-of-type {\n",
              "        vertical-align: middle;\n",
              "    }\n",
              "\n",
              "    .dataframe tbody tr th {\n",
              "        vertical-align: top;\n",
              "    }\n",
              "\n",
              "    .dataframe thead th {\n",
              "        text-align: right;\n",
              "    }\n",
              "</style>\n",
              "<table border=\"1\" class=\"dataframe\">\n",
              "  <thead>\n",
              "    <tr style=\"text-align: right;\">\n",
              "      <th></th>\n",
              "      <th>hash_watcher_id</th>\n",
              "      <th>play_duration_minutes</th>\n",
              "    </tr>\n",
              "    <tr>\n",
              "      <th>platform</th>\n",
              "      <th></th>\n",
              "      <th></th>\n",
              "    </tr>\n",
              "  </thead>\n",
              "  <tbody>\n",
              "    <tr>\n",
              "      <th>web-mobile</th>\n",
              "      <td>428195</td>\n",
              "      <td>2.087057</td>\n",
              "    </tr>\n",
              "    <tr>\n",
              "      <th>app-android</th>\n",
              "      <td>180635</td>\n",
              "      <td>14.764947</td>\n",
              "    </tr>\n",
              "    <tr>\n",
              "      <th>web-desktop</th>\n",
              "      <td>70109</td>\n",
              "      <td>10.388549</td>\n",
              "    </tr>\n",
              "    <tr>\n",
              "      <th>tv-android</th>\n",
              "      <td>41379</td>\n",
              "      <td>19.622120</td>\n",
              "    </tr>\n",
              "    <tr>\n",
              "      <th>app-ios</th>\n",
              "      <td>12479</td>\n",
              "      <td>8.796637</td>\n",
              "    </tr>\n",
              "    <tr>\n",
              "      <th>tv-tizen</th>\n",
              "      <td>7046</td>\n",
              "      <td>17.756190</td>\n",
              "    </tr>\n",
              "    <tr>\n",
              "      <th>tv-webos</th>\n",
              "      <td>5</td>\n",
              "      <td>3.750000</td>\n",
              "    </tr>\n",
              "  </tbody>\n",
              "</table>\n",
              "</div>\n",
              "      <button class=\"colab-df-convert\" onclick=\"convertToInteractive('df-fa1ed1a8-019a-424d-b6b7-26e597d0f3b9')\"\n",
              "              title=\"Convert this dataframe to an interactive table.\"\n",
              "              style=\"display:none;\">\n",
              "        \n",
              "  <svg xmlns=\"http://www.w3.org/2000/svg\" height=\"24px\"viewBox=\"0 0 24 24\"\n",
              "       width=\"24px\">\n",
              "    <path d=\"M0 0h24v24H0V0z\" fill=\"none\"/>\n",
              "    <path d=\"M18.56 5.44l.94 2.06.94-2.06 2.06-.94-2.06-.94-.94-2.06-.94 2.06-2.06.94zm-11 1L8.5 8.5l.94-2.06 2.06-.94-2.06-.94L8.5 2.5l-.94 2.06-2.06.94zm10 10l.94 2.06.94-2.06 2.06-.94-2.06-.94-.94-2.06-.94 2.06-2.06.94z\"/><path d=\"M17.41 7.96l-1.37-1.37c-.4-.4-.92-.59-1.43-.59-.52 0-1.04.2-1.43.59L10.3 9.45l-7.72 7.72c-.78.78-.78 2.05 0 2.83L4 21.41c.39.39.9.59 1.41.59.51 0 1.02-.2 1.41-.59l7.78-7.78 2.81-2.81c.8-.78.8-2.07 0-2.86zM5.41 20L4 18.59l7.72-7.72 1.47 1.35L5.41 20z\"/>\n",
              "  </svg>\n",
              "      </button>\n",
              "      \n",
              "  <style>\n",
              "    .colab-df-container {\n",
              "      display:flex;\n",
              "      flex-wrap:wrap;\n",
              "      gap: 12px;\n",
              "    }\n",
              "\n",
              "    .colab-df-convert {\n",
              "      background-color: #E8F0FE;\n",
              "      border: none;\n",
              "      border-radius: 50%;\n",
              "      cursor: pointer;\n",
              "      display: none;\n",
              "      fill: #1967D2;\n",
              "      height: 32px;\n",
              "      padding: 0 0 0 0;\n",
              "      width: 32px;\n",
              "    }\n",
              "\n",
              "    .colab-df-convert:hover {\n",
              "      background-color: #E2EBFA;\n",
              "      box-shadow: 0px 1px 2px rgba(60, 64, 67, 0.3), 0px 1px 3px 1px rgba(60, 64, 67, 0.15);\n",
              "      fill: #174EA6;\n",
              "    }\n",
              "\n",
              "    [theme=dark] .colab-df-convert {\n",
              "      background-color: #3B4455;\n",
              "      fill: #D2E3FC;\n",
              "    }\n",
              "\n",
              "    [theme=dark] .colab-df-convert:hover {\n",
              "      background-color: #434B5C;\n",
              "      box-shadow: 0px 1px 3px 1px rgba(0, 0, 0, 0.15);\n",
              "      filter: drop-shadow(0px 1px 2px rgba(0, 0, 0, 0.3));\n",
              "      fill: #FFFFFF;\n",
              "    }\n",
              "  </style>\n",
              "\n",
              "      <script>\n",
              "        const buttonEl =\n",
              "          document.querySelector('#df-fa1ed1a8-019a-424d-b6b7-26e597d0f3b9 button.colab-df-convert');\n",
              "        buttonEl.style.display =\n",
              "          google.colab.kernel.accessAllowed ? 'block' : 'none';\n",
              "\n",
              "        async function convertToInteractive(key) {\n",
              "          const element = document.querySelector('#df-fa1ed1a8-019a-424d-b6b7-26e597d0f3b9');\n",
              "          const dataTable =\n",
              "            await google.colab.kernel.invokeFunction('convertToInteractive',\n",
              "                                                     [key], {});\n",
              "          if (!dataTable) return;\n",
              "\n",
              "          const docLinkHtml = 'Like what you see? Visit the ' +\n",
              "            '<a target=\"_blank\" href=https://colab.research.google.com/notebooks/data_table.ipynb>data table notebook</a>'\n",
              "            + ' to learn more about interactive tables.';\n",
              "          element.innerHTML = '';\n",
              "          dataTable['output_type'] = 'display_data';\n",
              "          await google.colab.output.renderOutput(dataTable, element);\n",
              "          const docLink = document.createElement('div');\n",
              "          docLink.innerHTML = docLinkHtml;\n",
              "          element.appendChild(docLink);\n",
              "        }\n",
              "      </script>\n",
              "    </div>\n",
              "  </div>\n",
              "  "
            ]
          },
          "metadata": {},
          "execution_count": 138
        }
      ]
    },
    {
      "cell_type": "code",
      "source": [
        "fig, ax1 = plt.subplots(figsize=(10, 6))\n",
        "\n",
        "ax1.bar(range(len(grouped_data4.index)), grouped_data4['hash_watcher_id'], color='b')\n",
        "ax1.set_ylabel('User Count', color='b')\n",
        "ax1.tick_params(axis='y', labelcolor='b')\n",
        "ax1.set_xticks(range(len(grouped_data4.index)))\n",
        "ax1.set_xticklabels(grouped_data4.index)\n",
        "\n",
        "ax2 = ax1.twinx()\n",
        "ax2.plot(range(len(grouped_data4.index)), grouped_data4['play_duration_minutes'], color='r', marker='o')\n",
        "ax2.set_ylabel('Play Duration', color='r')\n",
        "ax2.tick_params(axis='y', labelcolor='r')\n",
        "\n",
        "plt.title('User Count and Play Duration by Platform')\n",
        "\n",
        "ax1.legend(['User Count'], loc='upper left')\n",
        "ax2.legend(['Play Duration'], loc='upper right')\n",
        "\n",
        "plt.xticks(rotation=90)\n",
        "plt.tight_layout()\n",
        "plt.show()\n"
      ],
      "metadata": {
        "colab": {
          "base_uri": "https://localhost:8080/",
          "height": 515
        },
        "id": "s1LN8G_VSd4W",
        "outputId": "8447b9ce-f72b-4f65-f273-82d6c8bf15e7"
      },
      "execution_count": null,
      "outputs": [
        {
          "output_type": "display_data",
          "data": {
            "text/plain": [
              "<Figure size 1000x600 with 2 Axes>"
            ],
            "image/png": "[encoded data removed]"
          },
          "metadata": {}
        }
      ]
    },
    {
      "cell_type": "markdown",
      "source": [
        "Observation:\n",
        "\n",
        "Based on the graph, although web-mobile has the most users, the platform that users keenly use to watch Vidio is TV-Android, with a relatively high average play duration. Users accessing Vidio through TV-Android exhibit longer engagement periods, which suggests a higher level of interest and commitment to watching videos on this platform. It indicates that users prefer the larger screen and immersive experience offered by TV-Android for their video consumption.\n"
      ],
      "metadata": {
        "id": "GIECGG6vbA1t"
      }
    },
    {
      "cell_type": "markdown",
      "source": [
        "\n",
        "\n",
        "---\n",
        "\n",
        "\n",
        "\n",
        "---\n",
        "\n"
      ],
      "metadata": {
        "id": "QRqBXb-cbzNN"
      }
    },
    {
      "cell_type": "markdown",
      "source": [
        "#THANKS!\n",
        "\n",
        "\n",
        "Hit me up on: sheilaftria@gmail.com\n",
        "\n",
        "[See more projects here](https://sheilafitria.github.io)\n",
        "\n"
      ],
      "metadata": {
        "id": "GE8-Sn5hbRGU"
      }
    }
  ]
}